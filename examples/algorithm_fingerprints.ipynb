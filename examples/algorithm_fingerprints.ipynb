{
 "cells": [
  {
   "cell_type": "code",
   "execution_count": null,
   "id": "17d17055-2519-448c-bd2e-27f6cc10ebe3",
   "metadata": {},
   "outputs": [],
   "source": [
    "from tlhop.algorithms import Fingerprints\n",
    "\n",
    "INPUT = \"<FILEPATH>\"\n",
    "\n",
    "spark = SparkSession.builder\\\n",
    "            .master(\"local[10]\")\\\n",
    "            .config(\"spark.driver.memory\", \"20g\")\\\n",
    "            .getOrCreate()\n",
    "\n",
    "df = spark.read.format(\"delta\").load(INPUT)"
   ]
  },
  {
   "cell_type": "markdown",
   "id": "93124c77-54f1-459c-88e3-e27d638c3886",
   "metadata": {},
   "source": [
    "### Type 1 - Raw Fingerprints\n",
    "\n",
    "Description"
   ]
  },
  {
   "cell_type": "code",
   "execution_count": null,
   "id": "f3789df6-2e51-4f81-9b3f-1bc8b8759a95",
   "metadata": {},
   "outputs": [],
   "source": [
    "scanner = Fingerprints(fingerprints_path=\"~/shodan-analysis/fingerprints/raw\", fingerprints_type=\"raw\")"
   ]
  },
  {
   "cell_type": "code",
   "execution_count": null,
   "id": "3be81b37-420e-4ffb-bc5d-a1e0ca8bf438",
   "metadata": {},
   "outputs": [],
   "source": [
    "result = scanner.run(df, keep_all_columns=False, keep_all_rows=False)\n",
    "result.show()"
   ]
  },
  {
   "cell_type": "markdown",
   "id": "d5b324c9-f3a8-4aac-8bd9-628a1365fad8",
   "metadata": {},
   "source": [
    "### Type 2 - Event Fingerprints\n",
    "\n",
    "Description"
   ]
  },
  {
   "cell_type": "code",
   "execution_count": null,
   "id": "ea8c40b9-fdcb-4fc2-9d8c-daa624864dce",
   "metadata": {},
   "outputs": [],
   "source": [
    "scanner2 = Fingerprints(fingerprints_path=\"~/shodan-analysis/fingerprints/events\", fingerprints_type=\"events\")"
   ]
  },
  {
   "cell_type": "code",
   "execution_count": null,
   "id": "f48bdf1b-7e06-4a0b-b393-3378579334ca",
   "metadata": {},
   "outputs": [],
   "source": [
    "result = scanner2.run(df, keep_all_columns=False, keep_all_rows=False)\n",
    "result.show()"
   ]
  },
  {
   "cell_type": "code",
   "execution_count": null,
   "id": "e24aebed-b6ce-43ba-ae82-6fe9f98eaaf9",
   "metadata": {},
   "outputs": [],
   "source": [
    "spark.stop()"
   ]
  }
 ],
 "metadata": {
  "kernelspec": {
   "display_name": "Python 3 (ipykernel)",
   "language": "python",
   "name": "python3"
  },
  "language_info": {
   "codemirror_mode": {
    "name": "ipython",
    "version": 3
   },
   "file_extension": ".py",
   "mimetype": "text/x-python",
   "name": "python",
   "nbconvert_exporter": "python",
   "pygments_lexer": "ipython3",
   "version": "3.11.2"
  }
 },
 "nbformat": 4,
 "nbformat_minor": 5
}
