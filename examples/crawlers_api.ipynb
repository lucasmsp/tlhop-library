{
 "cells": [
  {
   "cell_type": "markdown",
   "id": "41903ea9-15c4-41a9-ab42-444e66457b62",
   "metadata": {},
   "source": [
    "# Crawler usage demostration"
   ]
  },
  {
   "cell_type": "code",
   "execution_count": 1,
   "id": "dd5d6455-06b2-48a6-beb0-afc3c09a1140",
   "metadata": {
    "execution": {
     "iopub.execute_input": "2023-07-27T19:52:51.437018Z",
     "iopub.status.busy": "2023-07-27T19:52:51.436653Z",
     "iopub.status.idle": "2023-07-27T19:52:54.815434Z",
     "shell.execute_reply": "2023-07-27T19:52:54.814419Z",
     "shell.execute_reply.started": "2023-07-27T19:52:51.436932Z"
    },
    "tags": []
   },
   "outputs": [],
   "source": [
    "from pyspark.sql import SparkSession\n",
    "\n",
    "# Note: Make sure to set an environment variable called \"TLHOP_DATASETS_PATH\" \n",
    "# used to define where THLOP's Crawlers store their collected data."
   ]
  },
  {
   "cell_type": "markdown",
   "id": "d53adaa5-ff38-4ed4-b992-a5186c8dfc9c",
   "metadata": {
    "tags": []
   },
   "source": [
    "## AS-Classification (AS-Type) Crawler"
   ]
  },
  {
   "cell_type": "code",
   "execution_count": 5,
   "id": "678c0dfa-67d8-4c01-935a-4cc2ec617268",
   "metadata": {
    "execution": {
     "iopub.execute_input": "2023-07-14T20:06:22.852675Z",
     "iopub.status.busy": "2023-07-14T20:06:22.851622Z",
     "iopub.status.idle": "2023-07-14T20:06:25.253336Z",
     "shell.execute_reply": "2023-07-14T20:06:25.251342Z",
     "shell.execute_reply.started": "2023-07-14T20:06:22.852595Z"
    },
    "tags": []
   },
   "outputs": [
    {
     "name": "stdout",
     "output_type": "stream",
     "text": [
      "Last crawling timestamp: 20221104_120444\n",
      "The current dataset version is the most recent.\n"
     ]
    }
   ],
   "source": [
    "from tlhop.crawlers import AS2Type\n",
    "\n",
    "crawler = AS2Type()"
   ]
  },
  {
   "cell_type": "code",
   "execution_count": 29,
   "id": "6bcdd8a1-dcc2-45a3-bc56-26275b67ad66",
   "metadata": {},
   "outputs": [
    {
     "name": "stdout",
     "output_type": "stream",
     "text": [
      "Downloading file: 'https://publicdata.caida.org/datasets/as-classification_restricted/20210401.as2types.txt.gz'\n",
      "Advanced info:\n",
      "Date: Fri, 04 Nov 2022 15:04:42 GMT\n",
      "Server: Apache/2.4.43 (FreeBSD) OpenSSL/1.0.2u-freebsd\n",
      "Last-Modified: Fri, 09 Apr 2021 00:26:58 GMT\n",
      "ETag: \"392a6-5bf7f38c9150d\"\n",
      "Accept-Ranges: bytes\n",
      "Content-Length: 234150\n",
      "Connection: close\n",
      "Content-Type: application/x-gzip\n",
      "\n",
      "\n",
      "New dataset version is download with success!\n"
     ]
    }
   ],
   "source": [
    "crawler.download()"
   ]
  },
  {
   "cell_type": "markdown",
   "id": "4976867d-a1f7-4a81-8b1b-e813a30c2b9c",
   "metadata": {
    "tags": []
   },
   "source": [
    "## AS Rank Crawler"
   ]
  },
  {
   "cell_type": "code",
   "execution_count": 6,
   "id": "d374d763-4cd5-4832-b8e6-8c0d1217d973",
   "metadata": {
    "execution": {
     "iopub.execute_input": "2023-07-14T20:07:01.218087Z",
     "iopub.status.busy": "2023-07-14T20:07:01.216840Z",
     "iopub.status.idle": "2023-07-14T20:07:01.228957Z",
     "shell.execute_reply": "2023-07-14T20:07:01.227161Z",
     "shell.execute_reply.started": "2023-07-14T20:07:01.217978Z"
    }
   },
   "outputs": [
    {
     "name": "stdout",
     "output_type": "stream",
     "text": [
      "[INFO] Last crawling timestamp: 20221104_182326\n",
      "Because this dataset is collected from an external API, we can not verify if there is a newer version.\n"
     ]
    }
   ],
   "source": [
    "from tlhop.crawlers import ASRank\n",
    "\n",
    "crawler = ASRank()"
   ]
  },
  {
   "cell_type": "code",
   "execution_count": 3,
   "id": "df9d7632-5b82-4cdd-8e2f-1694995bbc9a",
   "metadata": {},
   "outputs": [
    {
     "name": "stdout",
     "output_type": "stream",
     "text": [
      "\n",
      "        # AS Rank Dataset\n",
      "        \n",
      "        - Description:  A ranking of Autonomous Systems (AS). ASes are ranked by their \n",
      "          customer cone size, which is the number of their direct and indirect customers. \n",
      "        - Reference: https://asrank.caida.org/\n",
      "        - Download link: https://api.asrank.caida.org/v2/graphql\n",
      "        - Fields: \n",
      "            * asn - code\n",
      "            * asnName - name of the ASN;\n",
      "            * cliqueMember - is true if the ASN is inferred to be a member of the clique of ASN at the top of the ASN hierarchy;\n",
      "            * longitude - longitude of the ASN;\n",
      "            * latitude - latitude of the ASN;\n",
      "            * rank - is ASN's rank, which is based on it's customer cone size, which in turn;\n",
      "            * seen - is true when ASN is seen in BGP;\n",
      "            * announcing_numberAddresses - number of addresses announced by the ASN;\n",
      "            * announcing_numberPrefixes - set of prefixes announced by the ASN;\n",
      "            * asnDegree_customer - The number of ASNs that are customers of the selected ASN.;\n",
      "            * asnDegree_sibling -  The number of ASNs that are providers of the selected ASN;\n",
      "            * asnDegree_peer -  The number of ASNs that are peers of the selected ASN;\n",
      "            * asnDegree_total -  The number of ASNs that were observed as neighbors of the selected ASN in a path;\n",
      "            * asnDegree_transit -  The number of ASNs that where observed as neighbors of the selected ASN in a path, \n",
      "              where the selected ASN was between, i.e. providing transit, for two other ASNs;\n",
      "            * organization_orgId - Organization's id of responsible to the ASN;\n",
      "            * organization_orgName - Organization's name of responsible to the ASN;\n",
      "            * country_iso - Country ISO code which the ASN is in;\n",
      "            * country_name - Country name code which the ASN is in;\n",
      "        \n"
     ]
    }
   ],
   "source": [
    "crawler.describe()"
   ]
  },
  {
   "cell_type": "code",
   "execution_count": 4,
   "id": "a6a4c8b7-c608-4cb4-9f1d-fd67886ac5c8",
   "metadata": {},
   "outputs": [
    {
     "name": "stdout",
     "output_type": "stream",
     "text": [
      "[INFO] Running - retrivied 10000 of 112490 records in 36.43 seconds.\n",
      "[INFO] Running - retrivied 20000 of 112490 records in 42.72 seconds.\n",
      "[INFO] Running - retrivied 30000 of 112490 records in 46.76 seconds.\n",
      "[INFO] Running - retrivied 40000 of 112490 records in 44.50 seconds.\n",
      "[INFO] Running - retrivied 50000 of 112490 records in 44.15 seconds.\n",
      "[INFO] Running - retrivied 60000 of 112490 records in 45.59 seconds.\n",
      "[INFO] Running - retrivied 70000 of 112490 records in 45.31 seconds.\n",
      "[INFO] Running - retrivied 80000 of 112490 records in 40.52 seconds.\n",
      "[INFO] Running - retrivied 90000 of 112490 records in 44.22 seconds.\n",
      "[INFO] Running - retrivied 100000 of 112490 records in 44.38 seconds.\n",
      "[INFO] Running - retrivied 110000 of 112490 records in 44.93 seconds.\n",
      "[INFO] Running - retrivied 120000 of 112490 records in 20.69 seconds.\n",
      "[INFO] New dataset version is download with success!\n"
     ]
    }
   ],
   "source": [
    "crawler.download()"
   ]
  },
  {
   "cell_type": "markdown",
   "id": "deb60c5d-ae08-439f-9885-c22a66659a8a",
   "metadata": {
    "tags": []
   },
   "source": [
    "## Mikrotik Releases Crawler"
   ]
  },
  {
   "cell_type": "code",
   "execution_count": 7,
   "id": "8f428b82-b158-4565-8bb6-bfda64d3a170",
   "metadata": {
    "execution": {
     "iopub.execute_input": "2023-07-14T20:07:29.119635Z",
     "iopub.status.busy": "2023-07-14T20:07:29.118591Z",
     "iopub.status.idle": "2023-07-14T20:07:29.151402Z",
     "shell.execute_reply": "2023-07-14T20:07:29.149603Z",
     "shell.execute_reply.started": "2023-07-14T20:07:29.119555Z"
    }
   },
   "outputs": [
    {
     "name": "stdout",
     "output_type": "stream",
     "text": [
      "Last crawling timestamp: 20221104_163448\n"
     ]
    }
   ],
   "source": [
    "from tlhop.crawlers import MikrotikReleases\n",
    "\n",
    "crawler = MikrotikReleases()"
   ]
  },
  {
   "cell_type": "code",
   "execution_count": 3,
   "id": "d8b94950-1de3-442a-949a-94a0bcefa476",
   "metadata": {},
   "outputs": [
    {
     "name": "stdout",
     "output_type": "stream",
     "text": [
      "\n",
      "        # Mikrotik Releases Dataset\n",
      "        \n",
      "        - Description: A dataset about Mikrotik's releases information crawled from official changelog.\n",
      "        - Reference: https://mikrotik.com/download/changelogs/\n",
      "        - Fields: environment deployment, release/version, date\n",
      "        \n"
     ]
    }
   ],
   "source": [
    "crawler.describe()"
   ]
  },
  {
   "cell_type": "code",
   "execution_count": 4,
   "id": "2ef82664-e869-4025-9c58-880f75b96a27",
   "metadata": {},
   "outputs": [
    {
     "name": "stdout",
     "output_type": "stream",
     "text": [
      "Crawling for new records.\n",
      "New dataset version is download with success!\n"
     ]
    }
   ],
   "source": [
    "crawler.download()"
   ]
  },
  {
   "cell_type": "markdown",
   "id": "b75b6f0a-a1b9-45f7-98d7-1f563fa80d9a",
   "metadata": {
    "tags": []
   },
   "source": [
    "## NIST NVD Crawler"
   ]
  },
  {
   "cell_type": "code",
   "execution_count": null,
   "id": "f96b6834-f867-4b52-82fe-2eb490afce5c",
   "metadata": {
    "tags": []
   },
   "outputs": [],
   "source": [
    "spark = SparkSession.builder.master(\"local[10]\").getOrCreate()"
   ]
  },
  {
   "cell_type": "code",
   "execution_count": null,
   "id": "8818cf6a-fd36-42a3-9282-58ea79e2b91d",
   "metadata": {
    "tags": []
   },
   "outputs": [],
   "source": [
    "from tlhop.crawlers import NISTNVD\n",
    "\n",
    "crawler = NISTNVD()"
   ]
  },
  {
   "cell_type": "code",
   "execution_count": 20,
   "id": "3be73106-c8cb-4db0-9381-184a922cdbd4",
   "metadata": {
    "execution": {
     "iopub.execute_input": "2023-03-30T12:32:29.919229Z",
     "iopub.status.busy": "2023-03-30T12:32:29.918097Z",
     "iopub.status.idle": "2023-03-30T12:32:29.992041Z",
     "shell.execute_reply": "2023-03-30T12:32:29.990528Z",
     "shell.execute_reply.started": "2023-03-30T12:32:29.919145Z"
    }
   },
   "outputs": [
    {
     "name": "stdout",
     "output_type": "stream",
     "text": [
      "\n",
      "        # NIST NVD\n",
      "        \n",
      "        - Description: The National Vulnerability Database (NVD) is the U.S. government \n",
      "          repository of standards based vulnerability management data.\n",
      "        - Reference: https://nvd.nist.gov/\n",
      "        - Download link: https://nvd.nist.gov/feeds/json/cve/1.1/nvdcve-1.1-{year}.json.zip\n",
      "        - Fields: cve_id, description, cvssv2, cvssv3, publishedDate, lastModifiedDate, \n",
      "                  baseMetricV2, baseMetricV3, cpe, references, published_year, rank_cvss_v2,\n",
      "                  rank_cvss_v3\n",
      "        \n"
     ]
    }
   ],
   "source": [
    "crawler.describe()"
   ]
  },
  {
   "cell_type": "code",
   "execution_count": 21,
   "id": "9c937cf1-cae5-43ec-8590-a6cbf7221681",
   "metadata": {
    "execution": {
     "iopub.execute_input": "2023-03-30T12:33:06.541188Z",
     "iopub.status.busy": "2023-03-30T12:33:06.540048Z",
     "iopub.status.idle": "2023-03-30T12:35:00.350976Z",
     "shell.execute_reply": "2023-03-30T12:35:00.350057Z",
     "shell.execute_reply.started": "2023-03-30T12:33:06.541105Z"
    }
   },
   "outputs": [
    {
     "name": "stdout",
     "output_type": "stream",
     "text": [
      "[INFO] Downloading new file: 'nvdcve-1.1-2002.json.zip'\n",
      "[INFO] Downloading new file: 'nvdcve-1.1-2003.json.zip'\n",
      "[INFO] Downloading new file: 'nvdcve-1.1-2004.json.zip'\n",
      "[INFO] Downloading new file: 'nvdcve-1.1-2005.json.zip'\n",
      "[INFO] Downloading new file: 'nvdcve-1.1-2006.json.zip'\n",
      "[INFO] Downloading new file: 'nvdcve-1.1-2007.json.zip'\n",
      "[INFO] Downloading new file: 'nvdcve-1.1-2008.json.zip'\n",
      "[INFO] Downloading new file: 'nvdcve-1.1-2009.json.zip'\n",
      "[INFO] Downloading new file: 'nvdcve-1.1-2010.json.zip'\n",
      "[INFO] Downloading new file: 'nvdcve-1.1-2011.json.zip'\n",
      "[INFO] Downloading new file: 'nvdcve-1.1-2012.json.zip'\n",
      "[INFO] Downloading new file: 'nvdcve-1.1-2013.json.zip'\n",
      "[INFO] Downloading new file: 'nvdcve-1.1-2014.json.zip'\n",
      "[INFO] Downloading new file: 'nvdcve-1.1-2015.json.zip'\n",
      "[INFO] Downloading new file: 'nvdcve-1.1-2016.json.zip'\n",
      "[INFO] Downloading new file: 'nvdcve-1.1-2017.json.zip'\n",
      "[INFO] Downloading new file: 'nvdcve-1.1-2018.json.zip'\n",
      "[INFO] Downloading new file: 'nvdcve-1.1-2019.json.zip'\n",
      "[INFO] Downloading new file: 'nvdcve-1.1-2020.json.zip'\n",
      "[INFO] Downloading new file: 'nvdcve-1.1-2021.json.zip'\n",
      "[INFO] Downloading new file: 'nvdcve-1.1-2022.json.zip'\n",
      "[INFO] Downloading new file: 'nvdcve-1.1-2023.json.zip'\n",
      "[INFO] Generating new consolided file.\n"
     ]
    },
    {
     "name": "stderr",
     "output_type": "stream",
     "text": [
      "                                                                                \r"
     ]
    },
    {
     "name": "stdout",
     "output_type": "stream",
     "text": [
      "[INFO] New dataset version is download with success!\n"
     ]
    },
    {
     "data": {
      "text/plain": [
       "True"
      ]
     },
     "execution_count": 21,
     "metadata": {},
     "output_type": "execute_result"
    }
   ],
   "source": [
    "crawler.download()"
   ]
  },
  {
   "cell_type": "code",
   "execution_count": 26,
   "id": "32949277-dfa4-4ae5-ad0e-7407bdd2f010",
   "metadata": {
    "execution": {
     "iopub.execute_input": "2023-03-30T12:37:19.268821Z",
     "iopub.status.busy": "2023-03-30T12:37:19.268254Z",
     "iopub.status.idle": "2023-03-30T12:37:20.012930Z",
     "shell.execute_reply": "2023-03-30T12:37:20.012062Z",
     "shell.execute_reply.started": "2023-03-30T12:37:19.268776Z"
    }
   },
   "outputs": [],
   "source": [
    "spark.stop()"
   ]
  },
  {
   "cell_type": "markdown",
   "id": "805d72cf-7074-4dcb-8f46-777fcf48edee",
   "metadata": {
    "tags": []
   },
   "source": [
    "## CISA's Known Exploited Vulnerabilities Catalog"
   ]
  },
  {
   "cell_type": "code",
   "execution_count": 12,
   "id": "ca100725-fb4b-4f8f-aa4d-3c238a2b8b0e",
   "metadata": {
    "execution": {
     "iopub.execute_input": "2023-07-14T20:09:16.374076Z",
     "iopub.status.busy": "2023-07-14T20:09:16.372968Z",
     "iopub.status.idle": "2023-07-14T20:09:17.963104Z",
     "shell.execute_reply": "2023-07-14T20:09:17.961297Z",
     "shell.execute_reply.started": "2023-07-14T20:09:16.373993Z"
    },
    "tags": []
   },
   "outputs": [
    {
     "name": "stdout",
     "output_type": "stream",
     "text": [
      "Last crawling timestamp: 20230414_142202\n",
      "A most recent version of the current dataset was found.\n"
     ]
    }
   ],
   "source": [
    "from tlhop.crawlers import CISAKnownExploits\n",
    "\n",
    "crawler = CISAKnownExploits()"
   ]
  },
  {
   "cell_type": "code",
   "execution_count": 13,
   "id": "8c805b90-d323-4e69-a6c5-07a77e6cd5a9",
   "metadata": {
    "execution": {
     "iopub.execute_input": "2023-07-14T20:09:28.369864Z",
     "iopub.status.busy": "2023-07-14T20:09:28.368841Z",
     "iopub.status.idle": "2023-07-14T20:09:28.379242Z",
     "shell.execute_reply": "2023-07-14T20:09:28.377463Z",
     "shell.execute_reply.started": "2023-07-14T20:09:28.369785Z"
    },
    "tags": []
   },
   "outputs": [
    {
     "name": "stdout",
     "output_type": "stream",
     "text": [
      "\n",
      "        # CISA's Known Exploited Vulnerabilities Catalog\n",
      "        \n",
      "        - Description: CISA maintains a catalog of vulnerabilities that have been exploited in the wild.\n",
      "        - Reference: https://www.cisa.gov/known-exploited-vulnerabilities\n",
      "        - Download link: https://www.cisa.gov/sites/default/files/csv/known_exploited_vulnerabilities.csv\n",
      "        \n"
     ]
    }
   ],
   "source": [
    "crawler.describe()"
   ]
  },
  {
   "cell_type": "code",
   "execution_count": 14,
   "id": "c0f01044-2b13-44bb-adef-ade57dfaa153",
   "metadata": {
    "execution": {
     "iopub.execute_input": "2023-07-14T20:09:30.305391Z",
     "iopub.status.busy": "2023-07-14T20:09:30.304415Z",
     "iopub.status.idle": "2023-07-14T20:09:30.845055Z",
     "shell.execute_reply": "2023-07-14T20:09:30.843200Z",
     "shell.execute_reply.started": "2023-07-14T20:09:30.305312Z"
    },
    "tags": []
   },
   "outputs": [
    {
     "name": "stdout",
     "output_type": "stream",
     "text": [
      "Downloading new file ...\n",
      "New dataset version is download with success!\n"
     ]
    },
    {
     "data": {
      "text/plain": [
       "True"
      ]
     },
     "execution_count": 14,
     "metadata": {},
     "output_type": "execute_result"
    }
   ],
   "source": [
    "crawler.download()"
   ]
  },
  {
   "cell_type": "markdown",
   "id": "f6be78c0-b81d-4ac1-853d-c11ac392805b",
   "metadata": {
    "jp-MarkdownHeadingCollapsed": true,
    "tags": []
   },
   "source": [
    "## Brazilian Cities"
   ]
  },
  {
   "cell_type": "code",
   "execution_count": 2,
   "id": "5db6fed0-e788-411a-82f8-544a3e950706",
   "metadata": {
    "execution": {
     "iopub.execute_input": "2023-07-14T20:14:13.954571Z",
     "iopub.status.busy": "2023-07-14T20:14:13.952930Z",
     "iopub.status.idle": "2023-07-14T20:14:16.937281Z",
     "shell.execute_reply": "2023-07-14T20:14:16.935346Z",
     "shell.execute_reply.started": "2023-07-14T20:14:13.954482Z"
    },
    "tags": []
   },
   "outputs": [
    {
     "name": "stdout",
     "output_type": "stream",
     "text": [
      "The current dataset version is the most recent.\n"
     ]
    }
   ],
   "source": [
    "from tlhop.crawlers import BrazilianCities\n",
    "\n",
    "crawler = BrazilianCities()"
   ]
  },
  {
   "cell_type": "code",
   "execution_count": 3,
   "id": "a2b87fcb-a0d3-4fb0-8907-b4737f1ed68f",
   "metadata": {},
   "outputs": [
    {
     "name": "stdout",
     "output_type": "stream",
     "text": [
      "\n",
      "        # Brazilian Cities\n",
      "        \n",
      "        - Description: This dataset is a compilation of several publicly available information about Brazilian Municipalities.\n",
      "        - Reference: https://www.kaggle.com/datasets/crisparada/brazilian-cities\n",
      "        - Fields: Each city contains 79 fields, please check reference page to further details.\n",
      "        - Authors: All credits to Cristiana Parada (https://www.kaggle.com/crisparada).\n",
      "        - License: This dataset is under CC BY-SA 4.0 License, which means that you are allowed ti copy and redistribute the material in any medium or format.\n",
      "        \n"
     ]
    }
   ],
   "source": [
    "crawler.describe()"
   ]
  },
  {
   "cell_type": "code",
   "execution_count": 4,
   "id": "595e21b5-8b90-41a8-ae77-823b3c6cbb96",
   "metadata": {},
   "outputs": [
    {
     "name": "stdin",
     "output_type": "stream",
     "text": [
      "By default, the download of this dataset is expected to be manual.In this mode, the user must download this dataset using the reference page (https://www.kaggle.com/datasets/crisparada/brazilian-cities), and place it as file '/home/lucasmsp/shodan-analysis/data/brazilian-cities/brazilian_cities.csv'. Please press [y/n] when the new version is already in the directory or to abort:  y\n"
     ]
    },
    {
     "name": "stdout",
     "output_type": "stream",
     "text": [
      "New dataset version added with success!\n"
     ]
    },
    {
     "data": {
      "text/plain": [
       "True"
      ]
     },
     "execution_count": 4,
     "metadata": {},
     "output_type": "execute_result"
    }
   ],
   "source": [
    "crawler.download()"
   ]
  },
  {
   "cell_type": "markdown",
   "id": "47580d1e-5b81-4f8e-ae59-e4f3316fc532",
   "metadata": {
    "tags": []
   },
   "source": [
    "## Federal Revenue of Brazil (Receita Federal Brasileira, RFB)"
   ]
  },
  {
   "cell_type": "code",
   "execution_count": 12,
   "id": "fb9693d0-797e-4833-a81b-971353215ec5",
   "metadata": {
    "execution": {
     "iopub.execute_input": "2023-07-14T20:37:08.898578Z",
     "iopub.status.busy": "2023-07-14T20:37:08.897675Z",
     "iopub.status.idle": "2023-07-14T20:37:18.452170Z",
     "shell.execute_reply": "2023-07-14T20:37:18.450316Z",
     "shell.execute_reply.started": "2023-07-14T20:37:08.898525Z"
    },
    "tags": []
   },
   "outputs": [
    {
     "name": "stdout",
     "output_type": "stream",
     "text": [
      "[INFO] Last crawling timestamp: 20230113_075257\n",
      "[INFO] A most recent version of the current dataset was found.\n"
     ]
    }
   ],
   "source": [
    "from tlhop.crawlers import BrazilianFR\n",
    "\n",
    "spark = SparkSession.builder\\\n",
    "            .master(\"local[10]\")\\\n",
    "            .getOrCreate()\n",
    "\n",
    "crawler = BrazilianFR()"
   ]
  },
  {
   "cell_type": "code",
   "execution_count": 2,
   "id": "6996db5b-1b40-43a8-9563-e5e264b9a812",
   "metadata": {},
   "outputs": [
    {
     "name": "stdout",
     "output_type": "stream",
     "text": [
      "[INFO] Starting to process files.\n",
      "[INFO] Processing 'estabelecimentos'\n"
     ]
    },
    {
     "name": "stderr",
     "output_type": "stream",
     "text": [
      "23/01/13 07:53:20 WARN package: Truncated the string representation of a plan since it was too large. This behavior can be adjusted by setting 'spark.sql.debug.maxToStringFields'.\n",
      "                                                                                \r"
     ]
    },
    {
     "name": "stdout",
     "output_type": "stream",
     "text": [
      "[INFO] Processed 'estabelecimentos' - number of records: 53642844\n",
      "[INFO] Processing 'empresas'\n"
     ]
    },
    {
     "name": "stderr",
     "output_type": "stream",
     "text": [
      "                                                                                \r"
     ]
    },
    {
     "name": "stdout",
     "output_type": "stream",
     "text": [
      "[INFO] Processed 'empresas' - number of records: 50882121\n",
      "[INFO] Writing a consolidated file\n"
     ]
    },
    {
     "name": "stderr",
     "output_type": "stream",
     "text": [
      "                                                                                \r"
     ]
    },
    {
     "name": "stdin",
     "output_type": "stream",
     "text": [
      "[WARN] Do you want to remove all download zipped files? [y/N] n\n"
     ]
    },
    {
     "name": "stdout",
     "output_type": "stream",
     "text": [
      "[INFO] New dataset version is download with success!\n"
     ]
    },
    {
     "data": {
      "text/plain": [
       "True"
      ]
     },
     "execution_count": 2,
     "metadata": {},
     "output_type": "execute_result"
    }
   ],
   "source": [
    "crawler.download(manual=True)"
   ]
  },
  {
   "cell_type": "markdown",
   "id": "224aa3d0-e950-44c2-a61c-b01ed4696e10",
   "metadata": {
    "tags": []
   },
   "source": [
    "## RDAP Dataset"
   ]
  },
  {
   "cell_type": "code",
   "execution_count": 2,
   "id": "b6087209-fa9e-4b70-9f3f-eaff23abb1f0",
   "metadata": {
    "execution": {
     "iopub.execute_input": "2023-07-25T16:39:00.892926Z",
     "iopub.status.busy": "2023-07-25T16:39:00.892464Z",
     "iopub.status.idle": "2023-07-25T16:39:07.252446Z",
     "shell.execute_reply": "2023-07-25T16:39:07.250310Z",
     "shell.execute_reply.started": "2023-07-25T16:39:00.892896Z"
    },
    "tags": []
   },
   "outputs": [
    {
     "name": "stdout",
     "output_type": "stream",
     "text": [
      "23/07/25 13:39:03 WARN NativeCodeLoader: Unable to load native-hadoop library for your platform... using builtin-java classes where applicable\n"
     ]
    },
    {
     "name": "stderr",
     "output_type": "stream",
     "text": [
      "Setting default log level to \"WARN\".\n",
      "To adjust logging level use sc.setLogLevel(newLevel). For SparkR, use setLogLevel(newLevel).\n"
     ]
    }
   ],
   "source": [
    "spark = SparkSession.builder.master(\"local[10]\").getOrCreate()"
   ]
  },
  {
   "cell_type": "code",
   "execution_count": 3,
   "id": "a9878336-3fd2-4c27-8afc-6457501bbae3",
   "metadata": {
    "execution": {
     "iopub.execute_input": "2023-07-25T16:39:07.259145Z",
     "iopub.status.busy": "2023-07-25T16:39:07.258004Z",
     "iopub.status.idle": "2023-07-25T16:39:09.682217Z",
     "shell.execute_reply": "2023-07-25T16:39:09.681317Z",
     "shell.execute_reply.started": "2023-07-25T16:39:07.259057Z"
    },
    "tags": []
   },
   "outputs": [
    {
     "name": "stdout",
     "output_type": "stream",
     "text": [
      "[INFO] Last crawling timestamp: 20220927_093053\n"
     ]
    }
   ],
   "source": [
    "import os\n",
    "from tlhop.crawlers import RDAP\n",
    "\n",
    "crawler = RDAP()\n",
    "\n",
    "target_ip_list_filepath = os.path.expanduser(\"~/demo-ip-rdap-list.csv\")"
   ]
  },
  {
   "cell_type": "code",
   "execution_count": 4,
   "id": "b219f681-1bf2-4999-bcc5-23ff9ad31498",
   "metadata": {
    "execution": {
     "iopub.execute_input": "2023-07-25T16:39:09.683858Z",
     "iopub.status.busy": "2023-07-25T16:39:09.683430Z",
     "iopub.status.idle": "2023-07-25T16:45:49.844385Z",
     "shell.execute_reply": "2023-07-25T16:45:49.842508Z",
     "shell.execute_reply.started": "2023-07-25T16:39:09.683830Z"
    },
    "tags": []
   },
   "outputs": [
    {
     "name": "stdout",
     "output_type": "stream",
     "text": [
      "[INFO] Starting a new execution.\n",
      "[INFO] Starting incremental running. Last block_id 47001\n",
      "[INFO] Cleaning Tree - Initial size: 32249. Analysis possible collisions...\n",
      "[INFO] Cleaning Tree - 1 intervals with colisions.\n",
      "[INFO] Cleaning Tree - Final size: 32248 .\n",
      "[INFO] Generating new consolided file.\n",
      "This execution had none requisition. Operation Completed.\n"
     ]
    },
    {
     "data": {
      "text/plain": [
       "True"
      ]
     },
     "execution_count": 4,
     "metadata": {},
     "output_type": "execute_result"
    }
   ],
   "source": [
    "crawler.download(target_ip_list_filepath, append=True, resume=False, use_selenium=False, historical_data=True)"
   ]
  },
  {
   "cell_type": "code",
   "execution_count": 5,
   "id": "ac5b9cec-1fcc-4738-8752-3d01ff350ecd",
   "metadata": {
    "execution": {
     "iopub.execute_input": "2023-07-25T16:49:40.400699Z",
     "iopub.status.busy": "2023-07-25T16:49:40.399520Z",
     "iopub.status.idle": "2023-07-25T16:49:40.824637Z",
     "shell.execute_reply": "2023-07-25T16:49:40.823031Z",
     "shell.execute_reply.started": "2023-07-25T16:49:40.400613Z"
    },
    "tags": []
   },
   "outputs": [],
   "source": [
    "spark.stop()"
   ]
  },
  {
   "cell_type": "markdown",
   "id": "80e1a1b9-8ffc-427c-bb6a-082d2a94210b",
   "metadata": {},
   "source": [
    "## EndOfLife"
   ]
  },
  {
   "cell_type": "code",
   "execution_count": 1,
   "id": "d4f653c8-d105-4e94-95f9-58fb53770910",
   "metadata": {
    "execution": {
     "iopub.execute_input": "2023-08-17T18:57:10.106855Z",
     "iopub.status.busy": "2023-08-17T18:57:10.105717Z",
     "iopub.status.idle": "2023-08-17T18:57:13.888726Z",
     "shell.execute_reply": "2023-08-17T18:57:13.886689Z",
     "shell.execute_reply.started": "2023-08-17T18:57:10.106649Z"
    },
    "tags": []
   },
   "outputs": [
    {
     "name": "stdout",
     "output_type": "stream",
     "text": [
      "Last crawling timestamp: 20230727_171333\n"
     ]
    }
   ],
   "source": [
    "from tlhop.crawlers.end_of_life import EndOfLife\n",
    "\n",
    "crawler = EndOfLife()"
   ]
  },
  {
   "cell_type": "code",
   "execution_count": 2,
   "id": "a4b9d0a4-70b7-4192-9cb1-d965153a3a7d",
   "metadata": {
    "execution": {
     "iopub.execute_input": "2023-08-17T18:57:13.908198Z",
     "iopub.status.busy": "2023-08-17T18:57:13.907176Z",
     "iopub.status.idle": "2023-08-17T18:57:13.941334Z",
     "shell.execute_reply": "2023-08-17T18:57:13.939498Z",
     "shell.execute_reply.started": "2023-08-17T18:57:13.908112Z"
    },
    "tags": []
   },
   "outputs": [
    {
     "name": "stdout",
     "output_type": "stream",
     "text": [
      "\n",
      "        # EndOfLife Dataset\n",
      "        \n",
      "        - Description: Keep track of various End of Life dates and support lifecycles for various products.\n",
      "        - References: https://endoflife.date/docs/api/ and https://github.com/endoflife-date/release-data\n",
      "        \n"
     ]
    }
   ],
   "source": [
    "crawler.describe()"
   ]
  },
  {
   "cell_type": "code",
   "execution_count": 3,
   "id": "77430ed0-f79c-4401-bfd5-cc555ae28e6f",
   "metadata": {
    "execution": {
     "iopub.execute_input": "2023-08-17T18:57:13.945036Z",
     "iopub.status.busy": "2023-08-17T18:57:13.944019Z",
     "iopub.status.idle": "2023-08-17T18:58:39.318684Z",
     "shell.execute_reply": "2023-08-17T18:58:39.317498Z",
     "shell.execute_reply.started": "2023-08-17T18:57:13.944952Z"
    },
    "tags": []
   },
   "outputs": [
    {
     "name": "stdout",
     "output_type": "stream",
     "text": [
      "Crawling for new records.\n",
      "251 products found to be crawled.\n",
      "New dataset version is download with success!\n"
     ]
    },
    {
     "data": {
      "text/plain": [
       "True"
      ]
     },
     "execution_count": 3,
     "metadata": {},
     "output_type": "execute_result"
    }
   ],
   "source": [
    "crawler.download()"
   ]
  },
  {
   "cell_type": "code",
   "execution_count": null,
   "id": "b02310a2-fb96-4db2-9804-d78a7419fbbe",
   "metadata": {},
   "outputs": [],
   "source": []
  }
 ],
 "metadata": {
  "kernelspec": {
   "display_name": "Python 3 (ipykernel)",
   "language": "python",
   "name": "python3"
  },
  "language_info": {
   "codemirror_mode": {
    "name": "ipython",
    "version": 3
   },
   "file_extension": ".py",
   "mimetype": "text/x-python",
   "name": "python",
   "nbconvert_exporter": "python",
   "pygments_lexer": "ipython3",
   "version": "3.9.2"
  }
 },
 "nbformat": 4,
 "nbformat_minor": 5
}
