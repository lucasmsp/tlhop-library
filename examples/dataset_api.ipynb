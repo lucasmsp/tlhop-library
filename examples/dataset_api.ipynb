{
 "cells": [
  {
   "cell_type": "markdown",
   "id": "5ecdde16",
   "metadata": {
    "ExecuteTime": {
     "end_time": "2022-08-04T12:37:41.875678Z",
     "start_time": "2022-08-04T12:37:41.841807Z"
    },
    "tags": []
   },
   "source": [
    "# THLOP - SHODAN'S DATASET API"
   ]
  },
  {
   "cell_type": "code",
   "execution_count": null,
   "id": "810e895f",
   "metadata": {
    "ExecuteTime": {
     "end_time": "2022-08-08T15:13:34.687735Z",
     "start_time": "2022-08-08T15:13:28.861061Z"
    },
    "tags": []
   },
   "outputs": [],
   "source": [
    "from pyspark.sql import SparkSession\n",
    "\n",
    "# Note: Make sure to set an environment variable called \"TLHOP_DATASETS_PATH\" \n",
    "# used to define where THLOP's Crawlers store their collected data.\n",
    "\n",
    "spark = SparkSession.builder\\\n",
    "            .master(\"local[4]\")\\\n",
    "            .config(\"spark.driver.memory\", \"10g\")\\\n",
    "            .getOrCreate()"
   ]
  },
  {
   "cell_type": "code",
   "execution_count": 2,
   "id": "9e03d843",
   "metadata": {
    "ExecuteTime": {
     "end_time": "2022-08-08T15:14:05.637872Z",
     "start_time": "2022-08-08T15:14:03.122065Z"
    },
    "execution": {
     "iopub.execute_input": "2024-04-08T20:44:36.008745Z",
     "iopub.status.busy": "2024-04-08T20:44:36.007144Z",
     "iopub.status.idle": "2024-04-08T20:44:40.922638Z",
     "shell.execute_reply": "2024-04-08T20:44:40.921382Z",
     "shell.execute_reply.started": "2024-04-08T20:44:36.008649Z"
    },
    "tags": []
   },
   "outputs": [],
   "source": [
    "from tlhop.datasets import DataSets\n",
    "\n",
    "ds = DataSets()"
   ]
  },
  {
   "cell_type": "code",
   "execution_count": 3,
   "id": "4fddafab-bb63-45ee-b028-560e06ef7c1b",
   "metadata": {
    "execution": {
     "iopub.execute_input": "2024-04-08T20:44:40.924329Z",
     "iopub.status.busy": "2024-04-08T20:44:40.924025Z",
     "iopub.status.idle": "2024-04-08T20:44:40.949603Z",
     "shell.execute_reply": "2024-04-08T20:44:40.948739Z",
     "shell.execute_reply.started": "2024-04-08T20:44:40.924299Z"
    },
    "tags": []
   },
   "outputs": [
    {
     "data": {
      "text/html": [
       "<div>\n",
       "<style scoped>\n",
       "    .dataframe tbody tr th:only-of-type {\n",
       "        vertical-align: middle;\n",
       "    }\n",
       "\n",
       "    .dataframe tbody tr th {\n",
       "        vertical-align: top;\n",
       "    }\n",
       "\n",
       "    .dataframe thead th {\n",
       "        text-align: right;\n",
       "    }\n",
       "</style>\n",
       "<table border=\"1\" class=\"dataframe\">\n",
       "  <thead>\n",
       "    <tr style=\"text-align: right;\">\n",
       "      <th></th>\n",
       "      <th>Code name</th>\n",
       "      <th>Description</th>\n",
       "      <th>Type</th>\n",
       "      <th>Downloaded</th>\n",
       "      <th>Size (MB)</th>\n",
       "      <th>Last timestamp</th>\n",
       "    </tr>\n",
       "  </thead>\n",
       "  <tbody>\n",
       "    <tr>\n",
       "      <th>0</th>\n",
       "      <td>ACCENTED_WORDS_PT_BR_FILE</td>\n",
       "      <td>List of accented pt-br words</td>\n",
       "      <td>internal</td>\n",
       "      <td>True</td>\n",
       "      <td>4.14</td>\n",
       "      <td>12/11/2023, 19:42:54</td>\n",
       "    </tr>\n",
       "    <tr>\n",
       "      <th>1</th>\n",
       "      <td>AS_RANK_FILE</td>\n",
       "      <td>CAIDA's AS Rank</td>\n",
       "      <td>external</td>\n",
       "      <td>True</td>\n",
       "      <td>12.56</td>\n",
       "      <td>09/02/2023, 15:30:32</td>\n",
       "    </tr>\n",
       "    <tr>\n",
       "      <th>2</th>\n",
       "      <td>AS_TYPE_FILE</td>\n",
       "      <td>CAIDA's AS Classification</td>\n",
       "      <td>external</td>\n",
       "      <td>True</td>\n",
       "      <td>2.18</td>\n",
       "      <td>09/02/2023, 15:31:16</td>\n",
       "    </tr>\n",
       "    <tr>\n",
       "      <th>3</th>\n",
       "      <td>BRAZILIAN_CITIES</td>\n",
       "      <td>Brazil's cities information dataset</td>\n",
       "      <td>external</td>\n",
       "      <td>True</td>\n",
       "      <td>3.07</td>\n",
       "      <td>09/02/2023, 15:31:16</td>\n",
       "    </tr>\n",
       "    <tr>\n",
       "      <th>4</th>\n",
       "      <td>BRAZILIAN_IPS</td>\n",
       "      <td>Lisf of Range of IPs available in Brazil's Internet</td>\n",
       "      <td>external</td>\n",
       "      <td>True</td>\n",
       "      <td>5.08</td>\n",
       "      <td>09/02/2023, 15:30:36</td>\n",
       "    </tr>\n",
       "    <tr>\n",
       "      <th>5</th>\n",
       "      <td>BRAZILIAN_RF</td>\n",
       "      <td>Brazilian National Register of Legal Entities - CNPJ</td>\n",
       "      <td>external</td>\n",
       "      <td>True</td>\n",
       "      <td>6,125.92</td>\n",
       "      <td>02/16/2024, 13:58:42</td>\n",
       "    </tr>\n",
       "    <tr>\n",
       "      <th>6</th>\n",
       "      <td>CISA_EXPLOITS</td>\n",
       "      <td>CISA's Known Exploited Vulnerabilities Catalog</td>\n",
       "      <td>external</td>\n",
       "      <td>True</td>\n",
       "      <td>0.34</td>\n",
       "      <td>09/02/2023, 15:30:39</td>\n",
       "    </tr>\n",
       "    <tr>\n",
       "      <th>7</th>\n",
       "      <td>COLUMNS_MODULE_FILE</td>\n",
       "      <td>Shodan's Module list and their columns frequency</td>\n",
       "      <td>external</td>\n",
       "      <td>True</td>\n",
       "      <td>0.09</td>\n",
       "      <td>09/02/2023, 15:30:40</td>\n",
       "    </tr>\n",
       "    <tr>\n",
       "      <th>8</th>\n",
       "      <td>ENDOFLIFE</td>\n",
       "      <td>Keep track of various End of Life dates and support lifecycles for various products</td>\n",
       "      <td>external</td>\n",
       "      <td>True</td>\n",
       "      <td>1.96</td>\n",
       "      <td>09/02/2023, 15:09:39</td>\n",
       "    </tr>\n",
       "    <tr>\n",
       "      <th>9</th>\n",
       "      <td>FIRST_EPSS</td>\n",
       "      <td>FIRST's Exploit Prediction Scoring system (EPSS)</td>\n",
       "      <td>external</td>\n",
       "      <td>True</td>\n",
       "      <td>946.08</td>\n",
       "      <td>03/22/2024, 14:20:59</td>\n",
       "    </tr>\n",
       "    <tr>\n",
       "      <th>10</th>\n",
       "      <td>HTTP_STATUS_FILE</td>\n",
       "      <td>Hypertext Transfer Protocol (HTTP) Status Code Registry</td>\n",
       "      <td>internal</td>\n",
       "      <td>True</td>\n",
       "      <td>0.02</td>\n",
       "      <td>12/11/2023, 19:42:54</td>\n",
       "    </tr>\n",
       "    <tr>\n",
       "      <th>11</th>\n",
       "      <td>ISO_639_LANGUAGE</td>\n",
       "      <td>Language code (iso 639) mapping list</td>\n",
       "      <td>internal</td>\n",
       "      <td>True</td>\n",
       "      <td>0.00</td>\n",
       "      <td>12/11/2023, 19:42:54</td>\n",
       "    </tr>\n",
       "    <tr>\n",
       "      <th>12</th>\n",
       "      <td>LACNIC_STATISTICS</td>\n",
       "      <td>LACNIC RIR Statistics</td>\n",
       "      <td>external</td>\n",
       "      <td>True</td>\n",
       "      <td>63.77</td>\n",
       "      <td>01/31/2024, 13:10:45</td>\n",
       "    </tr>\n",
       "    <tr>\n",
       "      <th>13</th>\n",
       "      <td>MIKROTIK_OS</td>\n",
       "      <td>Mikrotik Operational System releases</td>\n",
       "      <td>external</td>\n",
       "      <td>True</td>\n",
       "      <td>0.01</td>\n",
       "      <td>09/02/2023, 15:31:22</td>\n",
       "    </tr>\n",
       "    <tr>\n",
       "      <th>14</th>\n",
       "      <td>NVD_CVE_LIB</td>\n",
       "      <td>NIST National Vulnerability Database</td>\n",
       "      <td>external</td>\n",
       "      <td>True</td>\n",
       "      <td>36.16</td>\n",
       "      <td>03/25/2024, 13:19:16</td>\n",
       "    </tr>\n",
       "    <tr>\n",
       "      <th>15</th>\n",
       "      <td>PT_BR_DICTIONARY</td>\n",
       "      <td>List of pt-br words with length more than 2 characteres</td>\n",
       "      <td>internal</td>\n",
       "      <td>True</td>\n",
       "      <td>10.86</td>\n",
       "      <td>12/11/2023, 19:42:54</td>\n",
       "    </tr>\n",
       "    <tr>\n",
       "      <th>16</th>\n",
       "      <td>RDAP/DATASET</td>\n",
       "      <td>RDAP dataset generated from a list of IPs</td>\n",
       "      <td>external</td>\n",
       "      <td>True</td>\n",
       "      <td>4.79</td>\n",
       "      <td>09/02/2023, 15:30:33</td>\n",
       "    </tr>\n",
       "    <tr>\n",
       "      <th>17</th>\n",
       "      <td>RDAP/TREE</td>\n",
       "      <td>A interval tree generated during RDAP dataset creation.</td>\n",
       "      <td>external</td>\n",
       "      <td>True</td>\n",
       "      <td>2.61</td>\n",
       "      <td>09/02/2023, 15:30:32</td>\n",
       "    </tr>\n",
       "    <tr>\n",
       "      <th>18</th>\n",
       "      <td>UTF8_MAPPING_FILE</td>\n",
       "      <td>UTF-8 Code mapping</td>\n",
       "      <td>internal</td>\n",
       "      <td>True</td>\n",
       "      <td>0.00</td>\n",
       "      <td>12/11/2023, 19:42:54</td>\n",
       "    </tr>\n",
       "  </tbody>\n",
       "</table>\n",
       "</div>"
      ],
      "text/plain": [
       "                    Code name                                                                          Description      Type  Downloaded            Size (MB)        Last timestamp\n",
       "0   ACCENTED_WORDS_PT_BR_FILE                                                         List of accented pt-br words  internal        True                 4.14  12/11/2023, 19:42:54\n",
       "1                AS_RANK_FILE                                                                      CAIDA's AS Rank  external        True                12.56  09/02/2023, 15:30:32\n",
       "2                AS_TYPE_FILE                                                            CAIDA's AS Classification  external        True                 2.18  09/02/2023, 15:31:16\n",
       "3            BRAZILIAN_CITIES                                                  Brazil's cities information dataset  external        True                 3.07  09/02/2023, 15:31:16\n",
       "4               BRAZILIAN_IPS                                  Lisf of Range of IPs available in Brazil's Internet  external        True                 5.08  09/02/2023, 15:30:36\n",
       "5                BRAZILIAN_RF                                 Brazilian National Register of Legal Entities - CNPJ  external        True             6,125.92  02/16/2024, 13:58:42\n",
       "6               CISA_EXPLOITS                                       CISA's Known Exploited Vulnerabilities Catalog  external        True                 0.34  09/02/2023, 15:30:39\n",
       "7         COLUMNS_MODULE_FILE                                     Shodan's Module list and their columns frequency  external        True                 0.09  09/02/2023, 15:30:40\n",
       "8                   ENDOFLIFE  Keep track of various End of Life dates and support lifecycles for various products  external        True                 1.96  09/02/2023, 15:09:39\n",
       "9                  FIRST_EPSS                                     FIRST's Exploit Prediction Scoring system (EPSS)  external        True               946.08  03/22/2024, 14:20:59\n",
       "10           HTTP_STATUS_FILE                              Hypertext Transfer Protocol (HTTP) Status Code Registry  internal        True                 0.02  12/11/2023, 19:42:54\n",
       "11           ISO_639_LANGUAGE                                                 Language code (iso 639) mapping list  internal        True                 0.00  12/11/2023, 19:42:54\n",
       "12          LACNIC_STATISTICS                                                                LACNIC RIR Statistics  external        True                63.77  01/31/2024, 13:10:45\n",
       "13                MIKROTIK_OS                                                 Mikrotik Operational System releases  external        True                 0.01  09/02/2023, 15:31:22\n",
       "14                NVD_CVE_LIB                                                 NIST National Vulnerability Database  external        True                36.16  03/25/2024, 13:19:16\n",
       "15           PT_BR_DICTIONARY                              List of pt-br words with length more than 2 characteres  internal        True                10.86  12/11/2023, 19:42:54\n",
       "16               RDAP/DATASET                                            RDAP dataset generated from a list of IPs  external        True                 4.79  09/02/2023, 15:30:33\n",
       "17                  RDAP/TREE                              A interval tree generated during RDAP dataset creation.  external        True                 2.61  09/02/2023, 15:30:32\n",
       "18          UTF8_MAPPING_FILE                                                                   UTF-8 Code mapping  internal        True                 0.00  12/11/2023, 19:42:54"
      ]
     },
     "metadata": {},
     "output_type": "display_data"
    }
   ],
   "source": [
    "ds.list_datasets()"
   ]
  },
  {
   "cell_type": "markdown",
   "id": "89cb3886",
   "metadata": {
    "tags": []
   },
   "source": [
    "## NVD's CVE Library"
   ]
  },
  {
   "cell_type": "code",
   "execution_count": 4,
   "id": "f7fea98d",
   "metadata": {
    "ExecuteTime": {
     "end_time": "2022-08-04T11:55:12.752184Z",
     "start_time": "2022-08-04T11:55:11.162783Z"
    },
    "execution": {
     "iopub.execute_input": "2024-04-08T20:44:40.950819Z",
     "iopub.status.busy": "2024-04-08T20:44:40.950558Z",
     "iopub.status.idle": "2024-04-08T20:44:46.192565Z",
     "shell.execute_reply": "2024-04-08T20:44:46.190492Z",
     "shell.execute_reply.started": "2024-04-08T20:44:40.950794Z"
    },
    "tags": []
   },
   "outputs": [
    {
     "name": "stderr",
     "output_type": "stream",
     "text": [
      "                                                                                \r"
     ]
    },
    {
     "data": {
      "text/plain": [
       "242524"
      ]
     },
     "execution_count": 4,
     "metadata": {},
     "output_type": "execute_result"
    }
   ],
   "source": [
    "ds1 = ds.read_dataset(\"NVD_CVE_LIB\", check_update=False)\n",
    "ds1.count()"
   ]
  },
  {
   "cell_type": "code",
   "execution_count": 5,
   "id": "cb269e4b",
   "metadata": {
    "ExecuteTime": {
     "end_time": "2022-08-04T11:57:53.225441Z",
     "start_time": "2022-08-04T11:57:53.127891Z"
    },
    "execution": {
     "iopub.execute_input": "2024-04-08T20:44:46.200928Z",
     "iopub.status.busy": "2024-04-08T20:44:46.199949Z",
     "iopub.status.idle": "2024-04-08T20:44:46.224914Z",
     "shell.execute_reply": "2024-04-08T20:44:46.222834Z",
     "shell.execute_reply.started": "2024-04-08T20:44:46.200851Z"
    },
    "tags": []
   },
   "outputs": [
    {
     "name": "stdout",
     "output_type": "stream",
     "text": [
      "root\n",
      " |-- cve_id: string (nullable = true)\n",
      " |-- cvss_score: double (nullable = true)\n",
      " |-- cvss_version: string (nullable = true)\n",
      " |-- description: string (nullable = true)\n",
      " |-- publishedDate: date (nullable = true)\n",
      " |-- lastModifiedDate: string (nullable = true)\n",
      " |-- cvss_v2: struct (nullable = true)\n",
      " |    |-- acInsufInfo: boolean (nullable = true)\n",
      " |    |-- exploitabilityScore: double (nullable = true)\n",
      " |    |-- impactScore: double (nullable = true)\n",
      " |    |-- obtainAllPrivilege: boolean (nullable = true)\n",
      " |    |-- obtainOtherPrivilege: boolean (nullable = true)\n",
      " |    |-- obtainUserPrivilege: boolean (nullable = true)\n",
      " |    |-- severity: string (nullable = true)\n",
      " |    |-- userInteractionRequired: boolean (nullable = true)\n",
      " |    |-- accessComplexity: string (nullable = true)\n",
      " |    |-- accessVector: string (nullable = true)\n",
      " |    |-- authentication: string (nullable = true)\n",
      " |    |-- availabilityImpact: string (nullable = true)\n",
      " |    |-- score: double (nullable = true)\n",
      " |    |-- confidentialityImpact: string (nullable = true)\n",
      " |    |-- integrityImpact: string (nullable = true)\n",
      " |    |-- vectorString: string (nullable = true)\n",
      " |    |-- version: string (nullable = true)\n",
      " |    |-- rank: string (nullable = true)\n",
      " |-- cvss_v3: struct (nullable = true)\n",
      " |    |-- exploitabilityScore: double (nullable = true)\n",
      " |    |-- impactScore: double (nullable = true)\n",
      " |    |-- attackComplexity: string (nullable = true)\n",
      " |    |-- attackVector: string (nullable = true)\n",
      " |    |-- availabilityImpact: string (nullable = true)\n",
      " |    |-- score: double (nullable = true)\n",
      " |    |-- baseSeverity: string (nullable = true)\n",
      " |    |-- confidentialityImpact: string (nullable = true)\n",
      " |    |-- integrityImpact: string (nullable = true)\n",
      " |    |-- privilegesRequired: string (nullable = true)\n",
      " |    |-- scope: string (nullable = true)\n",
      " |    |-- userInteraction: string (nullable = true)\n",
      " |    |-- vectorString: string (nullable = true)\n",
      " |    |-- version: string (nullable = true)\n",
      " |    |-- rank: string (nullable = true)\n",
      " |-- cwe: array (nullable = true)\n",
      " |    |-- element: string (containsNull = true)\n",
      " |-- cpes: array (nullable = true)\n",
      " |    |-- element: struct (containsNull = true)\n",
      " |    |    |-- children: array (nullable = true)\n",
      " |    |    |    |-- element: struct (containsNull = true)\n",
      " |    |    |    |    |-- children: array (nullable = true)\n",
      " |    |    |    |    |    |-- element: string (containsNull = true)\n",
      " |    |    |    |    |-- cpe_match: array (nullable = true)\n",
      " |    |    |    |    |    |-- element: struct (containsNull = true)\n",
      " |    |    |    |    |    |    |-- cpe23Uri: string (nullable = true)\n",
      " |    |    |    |    |    |    |-- cpe_name: array (nullable = true)\n",
      " |    |    |    |    |    |    |    |-- element: string (containsNull = true)\n",
      " |    |    |    |    |    |    |-- versionEndExcluding: string (nullable = true)\n",
      " |    |    |    |    |    |    |-- versionEndIncluding: string (nullable = true)\n",
      " |    |    |    |    |    |    |-- versionStartExcluding: string (nullable = true)\n",
      " |    |    |    |    |    |    |-- versionStartIncluding: string (nullable = true)\n",
      " |    |    |    |    |    |    |-- vulnerable: boolean (nullable = true)\n",
      " |    |    |    |    |-- operator: string (nullable = true)\n",
      " |    |    |-- cpe_match: array (nullable = true)\n",
      " |    |    |    |-- element: struct (containsNull = true)\n",
      " |    |    |    |    |-- cpe23Uri: string (nullable = true)\n",
      " |    |    |    |    |-- cpe_name: array (nullable = true)\n",
      " |    |    |    |    |    |-- element: string (containsNull = true)\n",
      " |    |    |    |    |-- versionEndExcluding: string (nullable = true)\n",
      " |    |    |    |    |-- versionEndIncluding: string (nullable = true)\n",
      " |    |    |    |    |-- versionStartExcluding: string (nullable = true)\n",
      " |    |    |    |    |-- versionStartIncluding: string (nullable = true)\n",
      " |    |    |    |    |-- vulnerable: boolean (nullable = true)\n",
      " |    |    |-- operator: string (nullable = true)\n",
      " |-- references: string (nullable = true)\n",
      "\n"
     ]
    }
   ],
   "source": [
    "ds1.printSchema()"
   ]
  },
  {
   "cell_type": "markdown",
   "id": "3e770417-a20d-4837-a3d0-209eeabea1a0",
   "metadata": {
    "tags": []
   },
   "source": [
    "## CISA's Known Exploited Vulnerabilities Catalog"
   ]
  },
  {
   "cell_type": "code",
   "execution_count": 6,
   "id": "9282a48f-5640-4a79-a87d-a2bb3dd6f4f1",
   "metadata": {
    "execution": {
     "iopub.execute_input": "2024-04-08T20:44:46.228956Z",
     "iopub.status.busy": "2024-04-08T20:44:46.227566Z",
     "iopub.status.idle": "2024-04-08T20:44:47.751492Z",
     "shell.execute_reply": "2024-04-08T20:44:47.750341Z",
     "shell.execute_reply.started": "2024-04-08T20:44:46.228879Z"
    },
    "tags": []
   },
   "outputs": [
    {
     "data": {
      "text/plain": [
       "973"
      ]
     },
     "execution_count": 6,
     "metadata": {},
     "output_type": "execute_result"
    }
   ],
   "source": [
    "ds2 = ds.read_dataset(\"CISA_EXPLOITS\")\n",
    "ds2.count()"
   ]
  },
  {
   "cell_type": "code",
   "execution_count": 7,
   "id": "80d79bae-9e0a-4a50-b57f-b68790ab8ba0",
   "metadata": {
    "execution": {
     "iopub.execute_input": "2024-04-08T20:44:47.753328Z",
     "iopub.status.busy": "2024-04-08T20:44:47.752986Z",
     "iopub.status.idle": "2024-04-08T20:44:47.759978Z",
     "shell.execute_reply": "2024-04-08T20:44:47.758738Z",
     "shell.execute_reply.started": "2024-04-08T20:44:47.753296Z"
    },
    "tags": []
   },
   "outputs": [
    {
     "name": "stdout",
     "output_type": "stream",
     "text": [
      "root\n",
      " |-- cve_id: string (nullable = true)\n",
      " |-- vendorProject: string (nullable = true)\n",
      " |-- product: string (nullable = true)\n",
      " |-- vulnerabilityName: string (nullable = true)\n",
      " |-- dateAdded: string (nullable = true)\n",
      " |-- shortDescription: string (nullable = true)\n",
      " |-- requiredAction: string (nullable = true)\n",
      " |-- dueDate: string (nullable = true)\n",
      " |-- notes: string (nullable = true)\n",
      "\n"
     ]
    }
   ],
   "source": [
    "ds2.printSchema()"
   ]
  },
  {
   "cell_type": "markdown",
   "id": "7339f680",
   "metadata": {
    "ExecuteTime": {
     "end_time": "2022-08-04T11:59:45.252657Z",
     "start_time": "2022-08-04T11:59:45.214568Z"
    },
    "tags": []
   },
   "source": [
    "## HTTP Status Code List"
   ]
  },
  {
   "cell_type": "code",
   "execution_count": 8,
   "id": "de33ab17",
   "metadata": {
    "ExecuteTime": {
     "end_time": "2022-08-04T11:59:14.713206Z",
     "start_time": "2022-08-04T11:59:14.060683Z"
    },
    "execution": {
     "iopub.execute_input": "2024-04-08T20:44:47.761554Z",
     "iopub.status.busy": "2024-04-08T20:44:47.761226Z",
     "iopub.status.idle": "2024-04-08T20:44:48.398658Z",
     "shell.execute_reply": "2024-04-08T20:44:48.396592Z",
     "shell.execute_reply.started": "2024-04-08T20:44:47.761521Z"
    }
   },
   "outputs": [
    {
     "data": {
      "text/plain": [
       "99"
      ]
     },
     "execution_count": 8,
     "metadata": {},
     "output_type": "execute_result"
    }
   ],
   "source": [
    "ds2 = ds.read_dataset(\"HTTP_STATUS_FILE\")\n",
    "ds2.count()"
   ]
  },
  {
   "cell_type": "code",
   "execution_count": 9,
   "id": "1d4ee57f",
   "metadata": {
    "ExecuteTime": {
     "end_time": "2022-08-04T11:59:16.084513Z",
     "start_time": "2022-08-04T11:59:16.042123Z"
    },
    "execution": {
     "iopub.execute_input": "2024-04-08T20:44:48.402709Z",
     "iopub.status.busy": "2024-04-08T20:44:48.401410Z",
     "iopub.status.idle": "2024-04-08T20:44:48.412803Z",
     "shell.execute_reply": "2024-04-08T20:44:48.410735Z",
     "shell.execute_reply.started": "2024-04-08T20:44:48.402634Z"
    }
   },
   "outputs": [
    {
     "name": "stdout",
     "output_type": "stream",
     "text": [
      "root\n",
      " |-- code: string (nullable = true)\n",
      " |-- name: string (nullable = true)\n",
      " |-- description: string (nullable = true)\n",
      " |-- group: string (nullable = true)\n",
      " |-- reference: string (nullable = true)\n",
      "\n"
     ]
    }
   ],
   "source": [
    "ds2.printSchema()"
   ]
  },
  {
   "cell_type": "markdown",
   "id": "6636994e",
   "metadata": {
    "tags": []
   },
   "source": [
    "## UTF-8 Code symbols "
   ]
  },
  {
   "cell_type": "code",
   "execution_count": 10,
   "id": "d7fd015f",
   "metadata": {
    "ExecuteTime": {
     "end_time": "2022-08-04T12:00:37.327892Z",
     "start_time": "2022-08-04T12:00:36.910968Z"
    },
    "execution": {
     "iopub.execute_input": "2024-04-08T20:44:48.416398Z",
     "iopub.status.busy": "2024-04-08T20:44:48.415409Z",
     "iopub.status.idle": "2024-04-08T20:44:49.079785Z",
     "shell.execute_reply": "2024-04-08T20:44:49.077511Z",
     "shell.execute_reply.started": "2024-04-08T20:44:48.416328Z"
    }
   },
   "outputs": [
    {
     "data": {
      "text/plain": [
       "196"
      ]
     },
     "execution_count": 10,
     "metadata": {},
     "output_type": "execute_result"
    }
   ],
   "source": [
    "ds3 = ds.read_dataset(\"UTF8_MAPPING_FILE\")\n",
    "ds3.count()"
   ]
  },
  {
   "cell_type": "code",
   "execution_count": 11,
   "id": "4ada8078",
   "metadata": {
    "ExecuteTime": {
     "end_time": "2022-08-04T12:00:46.550885Z",
     "start_time": "2022-08-04T12:00:46.510340Z"
    },
    "execution": {
     "iopub.execute_input": "2024-04-08T20:44:49.083972Z",
     "iopub.status.busy": "2024-04-08T20:44:49.082546Z",
     "iopub.status.idle": "2024-04-08T20:44:49.093525Z",
     "shell.execute_reply": "2024-04-08T20:44:49.091363Z",
     "shell.execute_reply.started": "2024-04-08T20:44:49.083900Z"
    }
   },
   "outputs": [
    {
     "name": "stdout",
     "output_type": "stream",
     "text": [
      "root\n",
      " |-- Expected: string (nullable = true)\n",
      " |-- Actual: string (nullable = true)\n",
      "\n"
     ]
    }
   ],
   "source": [
    "ds3.printSchema()"
   ]
  },
  {
   "cell_type": "markdown",
   "id": "446870a0",
   "metadata": {
    "tags": []
   },
   "source": [
    "## AS Rank DataSet"
   ]
  },
  {
   "cell_type": "code",
   "execution_count": 12,
   "id": "d0ece015",
   "metadata": {
    "ExecuteTime": {
     "end_time": "2022-08-04T12:05:22.669469Z",
     "start_time": "2022-08-04T12:05:20.833705Z"
    },
    "execution": {
     "iopub.execute_input": "2024-04-08T20:44:49.097379Z",
     "iopub.status.busy": "2024-04-08T20:44:49.096212Z",
     "iopub.status.idle": "2024-04-08T20:44:51.075083Z",
     "shell.execute_reply": "2024-04-08T20:44:51.072815Z",
     "shell.execute_reply.started": "2024-04-08T20:44:49.097306Z"
    }
   },
   "outputs": [
    {
     "name": "stderr",
     "output_type": "stream",
     "text": [
      "                                                                                \r"
     ]
    },
    {
     "data": {
      "text/plain": [
       "112490"
      ]
     },
     "execution_count": 12,
     "metadata": {},
     "output_type": "execute_result"
    }
   ],
   "source": [
    "ds4 = ds.read_dataset(\"AS_RANK_FILE\")\n",
    "ds4.count()"
   ]
  },
  {
   "cell_type": "code",
   "execution_count": 13,
   "id": "5665ed9a",
   "metadata": {
    "ExecuteTime": {
     "end_time": "2022-08-04T12:05:22.714224Z",
     "start_time": "2022-08-04T12:05:22.674430Z"
    },
    "execution": {
     "iopub.execute_input": "2024-04-08T20:44:51.078770Z",
     "iopub.status.busy": "2024-04-08T20:44:51.077824Z",
     "iopub.status.idle": "2024-04-08T20:44:51.090290Z",
     "shell.execute_reply": "2024-04-08T20:44:51.088341Z",
     "shell.execute_reply.started": "2024-04-08T20:44:51.078698Z"
    }
   },
   "outputs": [
    {
     "name": "stdout",
     "output_type": "stream",
     "text": [
      "root\n",
      " |-- asn: string (nullable = true)\n",
      " |-- asnName: string (nullable = true)\n",
      " |-- rank: integer (nullable = true)\n",
      " |-- cliqueMember: string (nullable = true)\n",
      " |-- seen: string (nullable = true)\n",
      " |-- longitude: string (nullable = true)\n",
      " |-- latitude: string (nullable = true)\n",
      " |-- asnDegree_provider: string (nullable = true)\n",
      " |-- asnDegree_peer: string (nullable = true)\n",
      " |-- asnDegree_customer: string (nullable = true)\n",
      " |-- asnDegree_total: string (nullable = true)\n",
      " |-- asnDegree_transit: string (nullable = true)\n",
      " |-- asnDegree_sibling: string (nullable = true)\n",
      " |-- organization_orgId: string (nullable = true)\n",
      " |-- organization_orgName: string (nullable = true)\n",
      " |-- country_iso: string (nullable = true)\n",
      " |-- country_name: string (nullable = true)\n",
      " |-- announcing_numberPrefixes: string (nullable = true)\n",
      " |-- announcing_numberAddresses: string (nullable = true)\n",
      "\n"
     ]
    }
   ],
   "source": [
    "ds4.printSchema()"
   ]
  },
  {
   "cell_type": "markdown",
   "id": "6927e527",
   "metadata": {
    "tags": []
   },
   "source": [
    "## AS Type DataSet"
   ]
  },
  {
   "cell_type": "code",
   "execution_count": 14,
   "id": "a384f9d1",
   "metadata": {
    "ExecuteTime": {
     "end_time": "2022-08-04T12:06:09.452200Z",
     "start_time": "2022-08-04T12:06:08.647274Z"
    },
    "execution": {
     "iopub.execute_input": "2024-04-08T20:44:51.104518Z",
     "iopub.status.busy": "2024-04-08T20:44:51.103061Z",
     "iopub.status.idle": "2024-04-08T20:44:52.351510Z",
     "shell.execute_reply": "2024-04-08T20:44:52.349357Z",
     "shell.execute_reply.started": "2024-04-08T20:44:51.104445Z"
    }
   },
   "outputs": [
    {
     "name": "stderr",
     "output_type": "stream",
     "text": [
      "                                                                                \r"
     ]
    },
    {
     "data": {
      "text/plain": [
       "71665"
      ]
     },
     "execution_count": 14,
     "metadata": {},
     "output_type": "execute_result"
    }
   ],
   "source": [
    "ds5 = ds.read_dataset(\"AS_TYPE_FILE\")\n",
    "ds5.count()"
   ]
  },
  {
   "cell_type": "code",
   "execution_count": 15,
   "id": "fbeb8e92",
   "metadata": {
    "ExecuteTime": {
     "end_time": "2022-08-04T12:06:10.667776Z",
     "start_time": "2022-08-04T12:06:10.628276Z"
    },
    "execution": {
     "iopub.execute_input": "2024-04-08T20:44:52.355151Z",
     "iopub.status.busy": "2024-04-08T20:44:52.354200Z",
     "iopub.status.idle": "2024-04-08T20:44:52.365434Z",
     "shell.execute_reply": "2024-04-08T20:44:52.363382Z",
     "shell.execute_reply.started": "2024-04-08T20:44:52.355081Z"
    }
   },
   "outputs": [
    {
     "name": "stdout",
     "output_type": "stream",
     "text": [
      "root\n",
      " |-- asn: string (nullable = true)\n",
      " |-- class: string (nullable = true)\n",
      " |-- type: string (nullable = true)\n",
      "\n"
     ]
    }
   ],
   "source": [
    "ds5.printSchema()"
   ]
  },
  {
   "cell_type": "markdown",
   "id": "690aa001",
   "metadata": {
    "tags": []
   },
   "source": [
    "## Brazil Cities DataSet"
   ]
  },
  {
   "cell_type": "code",
   "execution_count": 16,
   "id": "15e30913",
   "metadata": {
    "ExecuteTime": {
     "end_time": "2022-08-04T12:10:28.592955Z",
     "start_time": "2022-08-04T12:10:27.418970Z"
    },
    "execution": {
     "iopub.execute_input": "2024-04-08T20:44:52.369412Z",
     "iopub.status.busy": "2024-04-08T20:44:52.368073Z",
     "iopub.status.idle": "2024-04-08T20:44:56.556205Z",
     "shell.execute_reply": "2024-04-08T20:44:56.554120Z",
     "shell.execute_reply.started": "2024-04-08T20:44:52.369341Z"
    }
   },
   "outputs": [
    {
     "name": "stderr",
     "output_type": "stream",
     "text": [
      "24/04/08 17:44:52 WARN package: Truncated the string representation of a plan since it was too large. This behavior can be adjusted by setting 'spark.sql.debug.maxToStringFields'.\n",
      "                                                                                \r"
     ]
    },
    {
     "data": {
      "text/plain": [
       "5578"
      ]
     },
     "execution_count": 16,
     "metadata": {},
     "output_type": "execute_result"
    }
   ],
   "source": [
    "ds6 = ds.read_dataset(\"BRAZILIAN_CITIES\")\n",
    "ds6.count()"
   ]
  },
  {
   "cell_type": "code",
   "execution_count": 17,
   "id": "80d07e6b",
   "metadata": {
    "ExecuteTime": {
     "end_time": "2022-08-04T12:10:30.184679Z",
     "start_time": "2022-08-04T12:10:30.142833Z"
    },
    "execution": {
     "iopub.execute_input": "2024-04-08T20:44:56.559947Z",
     "iopub.status.busy": "2024-04-08T20:44:56.558894Z",
     "iopub.status.idle": "2024-04-08T20:44:56.570673Z",
     "shell.execute_reply": "2024-04-08T20:44:56.568661Z",
     "shell.execute_reply.started": "2024-04-08T20:44:56.559874Z"
    }
   },
   "outputs": [
    {
     "name": "stdout",
     "output_type": "stream",
     "text": [
      "root\n",
      " |-- CITY: string (nullable = true)\n",
      " |-- STATE: string (nullable = true)\n",
      " |-- CAPITAL: string (nullable = true)\n",
      " |-- IBGE_RES_POP: string (nullable = true)\n",
      " |-- IBGE_RES_POP_BRAS: string (nullable = true)\n",
      " |-- IBGE_RES_POP_ESTR: string (nullable = true)\n",
      " |-- IBGE_DU: string (nullable = true)\n",
      " |-- IBGE_DU_URBAN: string (nullable = true)\n",
      " |-- IBGE_DU_RURAL: string (nullable = true)\n",
      " |-- IBGE_POP: string (nullable = true)\n",
      " |-- IBGE_1: string (nullable = true)\n",
      " |-- IBGE_1-4: string (nullable = true)\n",
      " |-- IBGE_5-9: string (nullable = true)\n",
      " |-- IBGE_10-14: string (nullable = true)\n",
      " |-- IBGE_15-59: string (nullable = true)\n",
      " |-- IBGE_60+: string (nullable = true)\n",
      " |-- IBGE_PLANTED_AREA: string (nullable = true)\n",
      " |-- IBGE_CROP_PRODUCTION_$: string (nullable = true)\n",
      " |-- IDHM Ranking 2010: string (nullable = true)\n",
      " |-- IDHM: string (nullable = true)\n",
      " |-- IDHM_Renda: string (nullable = true)\n",
      " |-- IDHM_Longevidade: string (nullable = true)\n",
      " |-- IDHM_Educacao: string (nullable = true)\n",
      " |-- LONG: double (nullable = true)\n",
      " |-- LAT: double (nullable = true)\n",
      " |-- ALT: string (nullable = true)\n",
      " |-- PAY_TV: string (nullable = true)\n",
      " |-- FIXED_PHONES: string (nullable = true)\n",
      " |-- AREA: string (nullable = true)\n",
      " |-- REGIAO_TUR: string (nullable = true)\n",
      " |-- CATEGORIA_TUR: string (nullable = true)\n",
      " |-- ESTIMATED_POP: string (nullable = true)\n",
      " |-- RURAL_URBAN: string (nullable = true)\n",
      " |-- GVA_AGROPEC: string (nullable = true)\n",
      " |-- GVA_INDUSTRY: string (nullable = true)\n",
      " |-- GVA_SERVICES: string (nullable = true)\n",
      " |-- GVA_PUBLIC: string (nullable = true)\n",
      " |-- GVA_TOTAL: string (nullable = true)\n",
      " |-- TAXES: string (nullable = true)\n",
      " |-- GDP: string (nullable = true)\n",
      " |-- POP_GDP: string (nullable = true)\n",
      " |-- GDP_CAPITA: string (nullable = true)\n",
      " |-- GVA_MAIN: string (nullable = true)\n",
      " |-- MUN_EXPENDIT: string (nullable = true)\n",
      " |-- COMP_TOT: string (nullable = true)\n",
      " |-- COMP_A: string (nullable = true)\n",
      " |-- COMP_B: string (nullable = true)\n",
      " |-- COMP_C: string (nullable = true)\n",
      " |-- COMP_D: string (nullable = true)\n",
      " |-- COMP_E: string (nullable = true)\n",
      " |-- COMP_F: string (nullable = true)\n",
      " |-- COMP_G: string (nullable = true)\n",
      " |-- COMP_H: string (nullable = true)\n",
      " |-- COMP_I: string (nullable = true)\n",
      " |-- COMP_J: string (nullable = true)\n",
      " |-- COMP_K: string (nullable = true)\n",
      " |-- COMP_L: string (nullable = true)\n",
      " |-- COMP_M: string (nullable = true)\n",
      " |-- COMP_N: string (nullable = true)\n",
      " |-- COMP_O: string (nullable = true)\n",
      " |-- COMP_P: string (nullable = true)\n",
      " |-- COMP_Q: string (nullable = true)\n",
      " |-- COMP_R: string (nullable = true)\n",
      " |-- COMP_S: string (nullable = true)\n",
      " |-- COMP_T: string (nullable = true)\n",
      " |-- COMP_U: string (nullable = true)\n",
      " |-- HOTELS: string (nullable = true)\n",
      " |-- BEDS: string (nullable = true)\n",
      " |-- Pr_Agencies: string (nullable = true)\n",
      " |-- Pu_Agencies: string (nullable = true)\n",
      " |-- Pr_Bank: string (nullable = true)\n",
      " |-- Pu_Bank: string (nullable = true)\n",
      " |-- Pr_Assets: string (nullable = true)\n",
      " |-- Pu_Assets: string (nullable = true)\n",
      " |-- Cars: string (nullable = true)\n",
      " |-- Motorcycles: string (nullable = true)\n",
      " |-- Wheeled_tractor: string (nullable = true)\n",
      " |-- UBER: string (nullable = true)\n",
      " |-- MAC: string (nullable = true)\n",
      " |-- WAL-MART: string (nullable = true)\n",
      " |-- POST_OFFICES: string (nullable = true)\n",
      "\n"
     ]
    }
   ],
   "source": [
    "ds6.printSchema()"
   ]
  },
  {
   "cell_type": "markdown",
   "id": "f8e3f7fb",
   "metadata": {
    "tags": []
   },
   "source": [
    "## Mikrotik OS Release Version"
   ]
  },
  {
   "cell_type": "code",
   "execution_count": 18,
   "id": "5b2a2f62",
   "metadata": {
    "ExecuteTime": {
     "end_time": "2022-08-04T12:13:03.317490Z",
     "start_time": "2022-08-04T12:13:03.028000Z"
    },
    "execution": {
     "iopub.execute_input": "2024-04-08T20:44:56.574548Z",
     "iopub.status.busy": "2024-04-08T20:44:56.573248Z",
     "iopub.status.idle": "2024-04-08T20:44:57.090167Z",
     "shell.execute_reply": "2024-04-08T20:44:57.088115Z",
     "shell.execute_reply.started": "2024-04-08T20:44:56.574477Z"
    }
   },
   "outputs": [
    {
     "data": {
      "text/plain": [
       "396"
      ]
     },
     "execution_count": 18,
     "metadata": {},
     "output_type": "execute_result"
    }
   ],
   "source": [
    "ds8 = ds.read_dataset(\"MIKROTIK_OS\")\n",
    "ds8.count()"
   ]
  },
  {
   "cell_type": "code",
   "execution_count": 19,
   "id": "921a7123",
   "metadata": {
    "ExecuteTime": {
     "end_time": "2022-08-04T12:12:18.998021Z",
     "start_time": "2022-08-04T12:12:18.973955Z"
    },
    "execution": {
     "iopub.execute_input": "2024-04-08T20:44:57.094240Z",
     "iopub.status.busy": "2024-04-08T20:44:57.092872Z",
     "iopub.status.idle": "2024-04-08T20:44:57.104090Z",
     "shell.execute_reply": "2024-04-08T20:44:57.101991Z",
     "shell.execute_reply.started": "2024-04-08T20:44:57.094164Z"
    }
   },
   "outputs": [
    {
     "name": "stdout",
     "output_type": "stream",
     "text": [
      "root\n",
      " |-- deployment: string (nullable = true)\n",
      " |-- release: string (nullable = true)\n",
      " |-- date: string (nullable = true)\n",
      "\n"
     ]
    }
   ],
   "source": [
    "ds8.printSchema()"
   ]
  },
  {
   "cell_type": "markdown",
   "id": "0d7f5fef",
   "metadata": {
    "tags": []
   },
   "source": [
    "## Language code (iso 639) mapping list"
   ]
  },
  {
   "cell_type": "code",
   "execution_count": 20,
   "id": "52c63032",
   "metadata": {
    "ExecuteTime": {
     "end_time": "2022-08-04T12:13:11.137398Z",
     "start_time": "2022-08-04T12:13:10.823100Z"
    },
    "execution": {
     "iopub.execute_input": "2024-04-08T20:44:57.107836Z",
     "iopub.status.busy": "2024-04-08T20:44:57.106743Z",
     "iopub.status.idle": "2024-04-08T20:44:57.590519Z",
     "shell.execute_reply": "2024-04-08T20:44:57.588486Z",
     "shell.execute_reply.started": "2024-04-08T20:44:57.107765Z"
    }
   },
   "outputs": [
    {
     "data": {
      "text/plain": [
       "184"
      ]
     },
     "execution_count": 20,
     "metadata": {},
     "output_type": "execute_result"
    }
   ],
   "source": [
    "ds9 = ds.read_dataset(\"ISO_639_LANGUAGE\")\n",
    "ds9.count()"
   ]
  },
  {
   "cell_type": "code",
   "execution_count": 21,
   "id": "7ea6185f",
   "metadata": {
    "ExecuteTime": {
     "end_time": "2022-08-04T12:13:13.078168Z",
     "start_time": "2022-08-04T12:13:13.038607Z"
    },
    "execution": {
     "iopub.execute_input": "2024-04-08T20:44:57.594138Z",
     "iopub.status.busy": "2024-04-08T20:44:57.593213Z",
     "iopub.status.idle": "2024-04-08T20:44:57.604467Z",
     "shell.execute_reply": "2024-04-08T20:44:57.602400Z",
     "shell.execute_reply.started": "2024-04-08T20:44:57.594067Z"
    }
   },
   "outputs": [
    {
     "name": "stdout",
     "output_type": "stream",
     "text": [
      "root\n",
      " |-- iso: string (nullable = true)\n",
      " |-- language: string (nullable = true)\n",
      "\n"
     ]
    }
   ],
   "source": [
    "ds9.printSchema()"
   ]
  },
  {
   "cell_type": "markdown",
   "id": "708bdbaa",
   "metadata": {
    "tags": []
   },
   "source": [
    "## PT-BR Accented words"
   ]
  },
  {
   "cell_type": "code",
   "execution_count": 22,
   "id": "e74c16a4",
   "metadata": {
    "ExecuteTime": {
     "end_time": "2022-08-08T15:27:05.359873Z",
     "start_time": "2022-08-08T15:27:05.027622Z"
    },
    "execution": {
     "iopub.execute_input": "2024-04-08T20:44:57.608438Z",
     "iopub.status.busy": "2024-04-08T20:44:57.607052Z",
     "iopub.status.idle": "2024-04-08T20:44:59.437940Z",
     "shell.execute_reply": "2024-04-08T20:44:59.435869Z",
     "shell.execute_reply.started": "2024-04-08T20:44:57.608366Z"
    }
   },
   "outputs": [
    {
     "name": "stderr",
     "output_type": "stream",
     "text": [
      "                                                                                \r"
     ]
    },
    {
     "data": {
      "text/plain": [
       "287883"
      ]
     },
     "execution_count": 22,
     "metadata": {},
     "output_type": "execute_result"
    }
   ],
   "source": [
    "ds10 = ds.read_dataset(\"ACCENTED_WORDS_PT_BR_FILE\")\n",
    "ds10.count()"
   ]
  },
  {
   "cell_type": "code",
   "execution_count": 23,
   "id": "fc97d66e",
   "metadata": {
    "ExecuteTime": {
     "end_time": "2022-08-08T15:27:07.807594Z",
     "start_time": "2022-08-08T15:27:07.769351Z"
    },
    "execution": {
     "iopub.execute_input": "2024-04-08T20:44:59.441647Z",
     "iopub.status.busy": "2024-04-08T20:44:59.440617Z",
     "iopub.status.idle": "2024-04-08T20:44:59.451720Z",
     "shell.execute_reply": "2024-04-08T20:44:59.449646Z",
     "shell.execute_reply.started": "2024-04-08T20:44:59.441576Z"
    }
   },
   "outputs": [
    {
     "name": "stdout",
     "output_type": "stream",
     "text": [
      "root\n",
      " |-- word: string (nullable = true)\n",
      "\n"
     ]
    }
   ],
   "source": [
    "ds10.printSchema()"
   ]
  },
  {
   "cell_type": "markdown",
   "id": "0364de11",
   "metadata": {
    "tags": []
   },
   "source": [
    "## PT-BR Dictionary"
   ]
  },
  {
   "cell_type": "code",
   "execution_count": 24,
   "id": "1a7899c9",
   "metadata": {
    "ExecuteTime": {
     "end_time": "2022-08-08T15:21:42.266656Z",
     "start_time": "2022-08-08T15:21:36.121836Z"
    },
    "execution": {
     "iopub.execute_input": "2024-04-08T20:44:59.455570Z",
     "iopub.status.busy": "2024-04-08T20:44:59.454393Z",
     "iopub.status.idle": "2024-04-08T20:45:02.504911Z",
     "shell.execute_reply": "2024-04-08T20:45:02.503393Z",
     "shell.execute_reply.started": "2024-04-08T20:44:59.455495Z"
    }
   },
   "outputs": [
    {
     "name": "stderr",
     "output_type": "stream",
     "text": [
      "                                                                                \r"
     ]
    },
    {
     "data": {
      "text/plain": [
       "980279"
      ]
     },
     "execution_count": 24,
     "metadata": {},
     "output_type": "execute_result"
    }
   ],
   "source": [
    "ds11 = ds.read_dataset(\"PT_BR_DICTIONARY\")\n",
    "ds11.count()"
   ]
  },
  {
   "cell_type": "code",
   "execution_count": 25,
   "id": "9bc6f111",
   "metadata": {
    "ExecuteTime": {
     "end_time": "2022-08-08T15:21:48.049795Z",
     "start_time": "2022-08-08T15:21:48.008344Z"
    },
    "execution": {
     "iopub.execute_input": "2024-04-08T20:45:02.508656Z",
     "iopub.status.busy": "2024-04-08T20:45:02.507428Z",
     "iopub.status.idle": "2024-04-08T20:45:02.517252Z",
     "shell.execute_reply": "2024-04-08T20:45:02.515563Z",
     "shell.execute_reply.started": "2024-04-08T20:45:02.508584Z"
    }
   },
   "outputs": [
    {
     "name": "stdout",
     "output_type": "stream",
     "text": [
      "root\n",
      " |-- word: string (nullable = true)\n",
      "\n"
     ]
    }
   ],
   "source": [
    "ds11.printSchema()"
   ]
  },
  {
   "cell_type": "markdown",
   "id": "6d9424e7-4c64-41a4-a696-b0d28cefecb9",
   "metadata": {
    "tags": []
   },
   "source": [
    "## Federal Revenue of Brazil"
   ]
  },
  {
   "cell_type": "code",
   "execution_count": 26,
   "id": "d21fcff1-f467-46e0-b1fa-c2719882eb9d",
   "metadata": {
    "execution": {
     "iopub.execute_input": "2024-04-08T20:45:02.521044Z",
     "iopub.status.busy": "2024-04-08T20:45:02.519716Z",
     "iopub.status.idle": "2024-04-08T20:45:08.453158Z",
     "shell.execute_reply": "2024-04-08T20:45:08.451733Z",
     "shell.execute_reply.started": "2024-04-08T20:45:02.520973Z"
    }
   },
   "outputs": [
    {
     "name": "stderr",
     "output_type": "stream",
     "text": [
      "                                                                                \r"
     ]
    },
    {
     "data": {
      "text/plain": [
       "71002229"
      ]
     },
     "execution_count": 26,
     "metadata": {},
     "output_type": "execute_result"
    }
   ],
   "source": [
    "ds12 = ds.read_dataset(\"BRAZILIAN_RF\")\n",
    "ds12.count()"
   ]
  },
  {
   "cell_type": "code",
   "execution_count": 27,
   "id": "4e344688-eadb-4c6a-a286-2df392002c3f",
   "metadata": {
    "execution": {
     "iopub.execute_input": "2024-04-08T20:45:08.456394Z",
     "iopub.status.busy": "2024-04-08T20:45:08.455470Z",
     "iopub.status.idle": "2024-04-08T20:45:08.466215Z",
     "shell.execute_reply": "2024-04-08T20:45:08.465039Z",
     "shell.execute_reply.started": "2024-04-08T20:45:08.456320Z"
    }
   },
   "outputs": [
    {
     "name": "stdout",
     "output_type": "stream",
     "text": [
      "root\n",
      " |-- cnpj_basico: string (nullable = true)\n",
      " |-- identificador_matriz: string (nullable = true)\n",
      " |-- nome_fantasia: string (nullable = true)\n",
      " |-- situacao_cadastral: string (nullable = true)\n",
      " |-- situacao_cadastral_data: date (nullable = true)\n",
      " |-- nome_cidade_exterior: string (nullable = true)\n",
      " |-- data_inicio_atividade: date (nullable = true)\n",
      " |-- cnae_fiscal_principal_cod: string (nullable = true)\n",
      " |-- cnae_fiscal_secundaria_cod: string (nullable = true)\n",
      " |-- endereço_tipo_logradouro: string (nullable = true)\n",
      " |-- endereço_logradouro: string (nullable = true)\n",
      " |-- endereço_numero: integer (nullable = true)\n",
      " |-- endereço_complemento: string (nullable = true)\n",
      " |-- endereço_bairro: string (nullable = true)\n",
      " |-- endereço_cep: integer (nullable = true)\n",
      " |-- endereço_uf: string (nullable = true)\n",
      " |-- contato_ddd1: integer (nullable = true)\n",
      " |-- contato_telone1: integer (nullable = true)\n",
      " |-- contato_email: string (nullable = true)\n",
      " |-- situacao_especial: string (nullable = true)\n",
      " |-- situacao_especial_data: date (nullable = true)\n",
      " |-- nome_fantasia_clean: string (nullable = true)\n",
      " |-- cnae_categorias: array (nullable = true)\n",
      " |    |-- element: string (containsNull = true)\n",
      " |-- pais: string (nullable = true)\n",
      " |-- endereco_municipio: string (nullable = true)\n",
      " |-- situacao_cadastral_motivo: string (nullable = true)\n",
      " |-- cnae_descricao: string (nullable = true)\n",
      " |-- razao_social: string (nullable = true)\n",
      " |-- qualificacao_responsavel: string (nullable = true)\n",
      " |-- capital_social_empresa: string (nullable = true)\n",
      " |-- porte_empresa: string (nullable = true)\n",
      " |-- ente_responsavel: string (nullable = true)\n",
      " |-- razao_social_clean: string (nullable = true)\n",
      " |-- natureza_juridica: string (nullable = true)\n",
      " |-- cnpj: string (nullable = true)\n",
      " |-- dump_data: date (nullable = true)\n",
      " |-- cnae_principal_raiz: string (nullable = true)\n",
      " |-- cnae_secao: string (nullable = true)\n",
      "\n"
     ]
    }
   ],
   "source": [
    "ds12.printSchema()"
   ]
  },
  {
   "cell_type": "markdown",
   "id": "ee2aab8c-8945-46d6-af5e-dad1861b9d69",
   "metadata": {},
   "source": [
    "## FIRST EPSS"
   ]
  },
  {
   "cell_type": "code",
   "execution_count": 28,
   "id": "c977a897-fe6f-48b2-820a-df703c057516",
   "metadata": {
    "execution": {
     "iopub.execute_input": "2024-04-08T20:45:08.468162Z",
     "iopub.status.busy": "2024-04-08T20:45:08.467831Z",
     "iopub.status.idle": "2024-04-08T20:45:11.839632Z",
     "shell.execute_reply": "2024-04-08T20:45:11.838594Z",
     "shell.execute_reply.started": "2024-04-08T20:45:08.468131Z"
    }
   },
   "outputs": [
    {
     "name": "stderr",
     "output_type": "stream",
     "text": [
      "                                                                                \r"
     ]
    },
    {
     "data": {
      "text/plain": [
       "175851655"
      ]
     },
     "execution_count": 28,
     "metadata": {},
     "output_type": "execute_result"
    }
   ],
   "source": [
    "ds13 = ds.read_dataset(\"FIRST_EPSS\", check_update=False)\n",
    "ds13.count()"
   ]
  },
  {
   "cell_type": "code",
   "execution_count": 29,
   "id": "4ef7d7c5-1c29-4765-a5aa-55c2a0e58c8e",
   "metadata": {
    "execution": {
     "iopub.execute_input": "2024-04-08T20:45:11.841171Z",
     "iopub.status.busy": "2024-04-08T20:45:11.840909Z",
     "iopub.status.idle": "2024-04-08T20:45:11.849701Z",
     "shell.execute_reply": "2024-04-08T20:45:11.847661Z",
     "shell.execute_reply.started": "2024-04-08T20:45:11.841147Z"
    }
   },
   "outputs": [
    {
     "name": "stdout",
     "output_type": "stream",
     "text": [
      "root\n",
      " |-- cve_id: string (nullable = true)\n",
      " |-- score_date: date (nullable = true)\n",
      " |-- year: integer (nullable = true)\n",
      " |-- model_version: string (nullable = true)\n",
      " |-- epss: double (nullable = true)\n",
      " |-- percentile: double (nullable = true)\n",
      "\n"
     ]
    }
   ],
   "source": [
    "ds13.printSchema()"
   ]
  },
  {
   "cell_type": "markdown",
   "id": "4fe259ef-ad0a-4a96-81ea-3f6a2a063474",
   "metadata": {},
   "source": [
    "## LACNIC RIR Statistics"
   ]
  },
  {
   "cell_type": "code",
   "execution_count": 30,
   "id": "84d96c87-feec-4fbb-87f8-80468b28cbc3",
   "metadata": {
    "execution": {
     "iopub.execute_input": "2024-04-08T20:45:11.853179Z",
     "iopub.status.busy": "2024-04-08T20:45:11.852295Z",
     "iopub.status.idle": "2024-04-08T20:45:17.133622Z",
     "shell.execute_reply": "2024-04-08T20:45:17.131117Z",
     "shell.execute_reply.started": "2024-04-08T20:45:11.853107Z"
    }
   },
   "outputs": [
    {
     "name": "stderr",
     "output_type": "stream",
     "text": [
      "                                                                                \r"
     ]
    },
    {
     "data": {
      "text/plain": [
       "49110601"
      ]
     },
     "execution_count": 30,
     "metadata": {},
     "output_type": "execute_result"
    }
   ],
   "source": [
    "ds14 = ds.read_dataset(\"LACNIC_STATISTICS\", check_update=False)\n",
    "ds14.count()"
   ]
  },
  {
   "cell_type": "code",
   "execution_count": 31,
   "id": "ddc7464e-91dd-4de6-b485-9e1888397487",
   "metadata": {
    "execution": {
     "iopub.execute_input": "2024-04-08T20:45:17.137436Z",
     "iopub.status.busy": "2024-04-08T20:45:17.136438Z",
     "iopub.status.idle": "2024-04-08T20:45:17.148056Z",
     "shell.execute_reply": "2024-04-08T20:45:17.146002Z",
     "shell.execute_reply.started": "2024-04-08T20:45:17.137359Z"
    }
   },
   "outputs": [
    {
     "name": "stdout",
     "output_type": "stream",
     "text": [
      "root\n",
      " |-- registry: string (nullable = true)\n",
      " |-- country: string (nullable = true)\n",
      " |-- type: string (nullable = true)\n",
      " |-- mask: string (nullable = true)\n",
      " |-- n_ips: long (nullable = true)\n",
      " |-- date: long (nullable = true)\n",
      " |-- status: string (nullable = true)\n",
      " |-- start_ip_int: double (nullable = true)\n",
      " |-- end_ip_int: double (nullable = true)\n",
      " |-- crawler_date: date (nullable = true)\n",
      " |-- crawler_year: long (nullable = true)\n",
      "\n"
     ]
    }
   ],
   "source": [
    "ds14.printSchema()"
   ]
  },
  {
   "cell_type": "code",
   "execution_count": 32,
   "id": "032dd7d6",
   "metadata": {
    "ExecuteTime": {
     "end_time": "2022-08-08T15:27:32.816829Z",
     "start_time": "2022-08-08T15:27:32.353583Z"
    },
    "execution": {
     "iopub.execute_input": "2024-04-08T20:45:17.151631Z",
     "iopub.status.busy": "2024-04-08T20:45:17.150662Z",
     "iopub.status.idle": "2024-04-08T20:45:17.507059Z",
     "shell.execute_reply": "2024-04-08T20:45:17.504961Z",
     "shell.execute_reply.started": "2024-04-08T20:45:17.151558Z"
    },
    "tags": []
   },
   "outputs": [],
   "source": [
    "spark.stop()"
   ]
  },
  {
   "cell_type": "code",
   "execution_count": null,
   "id": "3ce8284b-b8d1-4202-ba51-9dd0c2350be9",
   "metadata": {},
   "outputs": [],
   "source": []
  }
 ],
 "metadata": {
  "kernelspec": {
   "display_name": "Python 3 (ipykernel)",
   "language": "python",
   "name": "python3"
  },
  "language_info": {
   "codemirror_mode": {
    "name": "ipython",
    "version": 3
   },
   "file_extension": ".py",
   "mimetype": "text/x-python",
   "name": "python",
   "nbconvert_exporter": "python",
   "pygments_lexer": "ipython3",
   "version": "3.11.2"
  }
 },
 "nbformat": 4,
 "nbformat_minor": 5
}
