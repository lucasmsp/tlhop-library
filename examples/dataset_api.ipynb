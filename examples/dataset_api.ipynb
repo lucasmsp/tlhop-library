{
 "cells": [
  {
   "cell_type": "markdown",
   "id": "5ecdde16",
   "metadata": {
    "ExecuteTime": {
     "end_time": "2022-08-04T12:37:41.875678Z",
     "start_time": "2022-08-04T12:37:41.841807Z"
    },
    "tags": []
   },
   "source": [
    "# THLOP - SHODAN'S DATASET API"
   ]
  },
  {
   "cell_type": "code",
   "execution_count": null,
   "id": "810e895f",
   "metadata": {
    "ExecuteTime": {
     "end_time": "2022-08-08T15:13:34.687735Z",
     "start_time": "2022-08-08T15:13:28.861061Z"
    },
    "tags": []
   },
   "outputs": [],
   "source": [
    "import os                                                                    \n",
    "from pyspark.sql import SparkSession\n",
    "import pyspark.sql.functions as F\n",
    "\n",
    "# Note: Make sure to set an environment variable called \"TLHOP_DATASETS_PATH\" \n",
    "# used to define where THLOP's Crawlers store their collected data.\n",
    "\n",
    "spark = SparkSession.builder\\\n",
    "            .master(\"local[4]\")\\\n",
    "            .config(\"spark.driver.memory\", \"10g\")\\\n",
    "            .getOrCreate()"
   ]
  },
  {
   "cell_type": "code",
   "execution_count": 2,
   "id": "9e03d843",
   "metadata": {
    "ExecuteTime": {
     "end_time": "2022-08-08T15:14:05.637872Z",
     "start_time": "2022-08-08T15:14:03.122065Z"
    },
    "execution": {
     "iopub.execute_input": "2024-01-31T13:23:30.091944Z",
     "iopub.status.busy": "2024-01-31T13:23:30.091286Z",
     "iopub.status.idle": "2024-01-31T13:23:36.584484Z",
     "shell.execute_reply": "2024-01-31T13:23:36.583563Z",
     "shell.execute_reply.started": "2024-01-31T13:23:30.091900Z"
    },
    "tags": []
   },
   "outputs": [],
   "source": [
    "from tlhop.datasets import DataSets\n",
    "\n",
    "ds = DataSets()"
   ]
  },
  {
   "cell_type": "code",
   "execution_count": 3,
   "id": "4fddafab-bb63-45ee-b028-560e06ef7c1b",
   "metadata": {
    "execution": {
     "iopub.execute_input": "2024-01-31T13:23:36.586686Z",
     "iopub.status.busy": "2024-01-31T13:23:36.586368Z",
     "iopub.status.idle": "2024-01-31T13:23:36.611045Z",
     "shell.execute_reply": "2024-01-31T13:23:36.610279Z",
     "shell.execute_reply.started": "2024-01-31T13:23:36.586659Z"
    },
    "tags": []
   },
   "outputs": [
    {
     "data": {
      "text/html": [
       "<div>\n",
       "<style scoped>\n",
       "    .dataframe tbody tr th:only-of-type {\n",
       "        vertical-align: middle;\n",
       "    }\n",
       "\n",
       "    .dataframe tbody tr th {\n",
       "        vertical-align: top;\n",
       "    }\n",
       "\n",
       "    .dataframe thead th {\n",
       "        text-align: right;\n",
       "    }\n",
       "</style>\n",
       "<table border=\"1\" class=\"dataframe\">\n",
       "  <thead>\n",
       "    <tr style=\"text-align: right;\">\n",
       "      <th></th>\n",
       "      <th>Code name</th>\n",
       "      <th>Description</th>\n",
       "      <th>Type</th>\n",
       "      <th>Downloaded</th>\n",
       "      <th>Size (MB)</th>\n",
       "      <th>Last timestamp</th>\n",
       "    </tr>\n",
       "  </thead>\n",
       "  <tbody>\n",
       "    <tr>\n",
       "      <th>0</th>\n",
       "      <td>ACCENTED_WORDS_PT_BR_FILE</td>\n",
       "      <td>List of accented pt-br words</td>\n",
       "      <td>internal</td>\n",
       "      <td>True</td>\n",
       "      <td>4.14</td>\n",
       "      <td>12/11/2023, 19:42:54</td>\n",
       "    </tr>\n",
       "    <tr>\n",
       "      <th>1</th>\n",
       "      <td>AS_RANK_FILE</td>\n",
       "      <td>CAIDA's AS Rank</td>\n",
       "      <td>external</td>\n",
       "      <td>True</td>\n",
       "      <td>12.56</td>\n",
       "      <td>09/02/2023, 15:30:32</td>\n",
       "    </tr>\n",
       "    <tr>\n",
       "      <th>2</th>\n",
       "      <td>AS_TYPE_FILE</td>\n",
       "      <td>CAIDA's AS Classification</td>\n",
       "      <td>external</td>\n",
       "      <td>True</td>\n",
       "      <td>2.18</td>\n",
       "      <td>09/02/2023, 15:31:16</td>\n",
       "    </tr>\n",
       "    <tr>\n",
       "      <th>3</th>\n",
       "      <td>BRAZILIAN_CITIES</td>\n",
       "      <td>Brazil's cities information dataset</td>\n",
       "      <td>external</td>\n",
       "      <td>True</td>\n",
       "      <td>3.07</td>\n",
       "      <td>09/02/2023, 15:31:16</td>\n",
       "    </tr>\n",
       "    <tr>\n",
       "      <th>4</th>\n",
       "      <td>BRAZILIAN_IPS</td>\n",
       "      <td>Lisf of Range of IPs available in Brazil's Internet</td>\n",
       "      <td>external</td>\n",
       "      <td>True</td>\n",
       "      <td>5.08</td>\n",
       "      <td>09/02/2023, 15:30:36</td>\n",
       "    </tr>\n",
       "    <tr>\n",
       "      <th>5</th>\n",
       "      <td>BRAZILIAN_RF</td>\n",
       "      <td>Brazilian National Register of Legal Entities - CNPJ</td>\n",
       "      <td>external</td>\n",
       "      <td>True</td>\n",
       "      <td>4,555.93</td>\n",
       "      <td>09/02/2023, 15:30:31</td>\n",
       "    </tr>\n",
       "    <tr>\n",
       "      <th>6</th>\n",
       "      <td>CISA_EXPLOITS</td>\n",
       "      <td>CISA's Known Exploited Vulnerabilities Catalog</td>\n",
       "      <td>external</td>\n",
       "      <td>True</td>\n",
       "      <td>0.34</td>\n",
       "      <td>09/02/2023, 15:30:39</td>\n",
       "    </tr>\n",
       "    <tr>\n",
       "      <th>7</th>\n",
       "      <td>COLUMNS_MODULE_FILE</td>\n",
       "      <td>Shodan's Module list and their columns frequency</td>\n",
       "      <td>external</td>\n",
       "      <td>True</td>\n",
       "      <td>0.09</td>\n",
       "      <td>09/02/2023, 15:30:40</td>\n",
       "    </tr>\n",
       "    <tr>\n",
       "      <th>8</th>\n",
       "      <td>ENDOFLIFE</td>\n",
       "      <td>Keep track of various End of Life dates and support lifecycles for various products</td>\n",
       "      <td>external</td>\n",
       "      <td>True</td>\n",
       "      <td>1.96</td>\n",
       "      <td>09/02/2023, 15:09:39</td>\n",
       "    </tr>\n",
       "    <tr>\n",
       "      <th>9</th>\n",
       "      <td>FIRST_EPSS</td>\n",
       "      <td>FIRST's Exploit Prediction Scoring system (EPSS)</td>\n",
       "      <td>external</td>\n",
       "      <td>True</td>\n",
       "      <td>1,058.04</td>\n",
       "      <td>12/06/2023, 11:16:44</td>\n",
       "    </tr>\n",
       "    <tr>\n",
       "      <th>10</th>\n",
       "      <td>HTTP_STATUS_FILE</td>\n",
       "      <td>Hypertext Transfer Protocol (HTTP) Status Code Registry</td>\n",
       "      <td>internal</td>\n",
       "      <td>True</td>\n",
       "      <td>0.02</td>\n",
       "      <td>12/11/2023, 19:42:54</td>\n",
       "    </tr>\n",
       "    <tr>\n",
       "      <th>11</th>\n",
       "      <td>ISO_639_LANGUAGE</td>\n",
       "      <td>Language code (iso 639) mapping list</td>\n",
       "      <td>internal</td>\n",
       "      <td>True</td>\n",
       "      <td>0.00</td>\n",
       "      <td>12/11/2023, 19:42:54</td>\n",
       "    </tr>\n",
       "    <tr>\n",
       "      <th>12</th>\n",
       "      <td>LACNIC_STATISTICS</td>\n",
       "      <td>LACNIC RIR Statistics</td>\n",
       "      <td>external</td>\n",
       "      <td>True</td>\n",
       "      <td>63.77</td>\n",
       "      <td>01/31/2024, 13:10:45</td>\n",
       "    </tr>\n",
       "    <tr>\n",
       "      <th>13</th>\n",
       "      <td>MIKROTIK_OS</td>\n",
       "      <td>Mikrotik Operational System releases</td>\n",
       "      <td>external</td>\n",
       "      <td>True</td>\n",
       "      <td>0.01</td>\n",
       "      <td>09/02/2023, 15:31:22</td>\n",
       "    </tr>\n",
       "    <tr>\n",
       "      <th>14</th>\n",
       "      <td>NVD_CVE_LIB</td>\n",
       "      <td>NIST National Vulnerability Database</td>\n",
       "      <td>external</td>\n",
       "      <td>True</td>\n",
       "      <td>33.83</td>\n",
       "      <td>01/10/2024, 12:30:51</td>\n",
       "    </tr>\n",
       "    <tr>\n",
       "      <th>15</th>\n",
       "      <td>PT_BR_DICTIONARY</td>\n",
       "      <td>List of pt-br words with length more than 2 characteres</td>\n",
       "      <td>internal</td>\n",
       "      <td>True</td>\n",
       "      <td>10.86</td>\n",
       "      <td>12/11/2023, 19:42:54</td>\n",
       "    </tr>\n",
       "    <tr>\n",
       "      <th>16</th>\n",
       "      <td>RDAP/DATASET</td>\n",
       "      <td>RDAP dataset generated from a list of IPs</td>\n",
       "      <td>external</td>\n",
       "      <td>True</td>\n",
       "      <td>4.79</td>\n",
       "      <td>09/02/2023, 15:30:33</td>\n",
       "    </tr>\n",
       "    <tr>\n",
       "      <th>17</th>\n",
       "      <td>RDAP/TREE</td>\n",
       "      <td>A interval tree generated during RDAP dataset creation.</td>\n",
       "      <td>external</td>\n",
       "      <td>True</td>\n",
       "      <td>2.61</td>\n",
       "      <td>09/02/2023, 15:30:32</td>\n",
       "    </tr>\n",
       "    <tr>\n",
       "      <th>18</th>\n",
       "      <td>UTF8_MAPPING_FILE</td>\n",
       "      <td>UTF-8 Code mapping</td>\n",
       "      <td>internal</td>\n",
       "      <td>True</td>\n",
       "      <td>0.00</td>\n",
       "      <td>12/11/2023, 19:42:54</td>\n",
       "    </tr>\n",
       "  </tbody>\n",
       "</table>\n",
       "</div>"
      ],
      "text/plain": [
       "                    Code name                                                                          Description      Type  Downloaded            Size (MB)        Last timestamp\n",
       "0   ACCENTED_WORDS_PT_BR_FILE                                                         List of accented pt-br words  internal        True                 4.14  12/11/2023, 19:42:54\n",
       "1                AS_RANK_FILE                                                                      CAIDA's AS Rank  external        True                12.56  09/02/2023, 15:30:32\n",
       "2                AS_TYPE_FILE                                                            CAIDA's AS Classification  external        True                 2.18  09/02/2023, 15:31:16\n",
       "3            BRAZILIAN_CITIES                                                  Brazil's cities information dataset  external        True                 3.07  09/02/2023, 15:31:16\n",
       "4               BRAZILIAN_IPS                                  Lisf of Range of IPs available in Brazil's Internet  external        True                 5.08  09/02/2023, 15:30:36\n",
       "5                BRAZILIAN_RF                                 Brazilian National Register of Legal Entities - CNPJ  external        True             4,555.93  09/02/2023, 15:30:31\n",
       "6               CISA_EXPLOITS                                       CISA's Known Exploited Vulnerabilities Catalog  external        True                 0.34  09/02/2023, 15:30:39\n",
       "7         COLUMNS_MODULE_FILE                                     Shodan's Module list and their columns frequency  external        True                 0.09  09/02/2023, 15:30:40\n",
       "8                   ENDOFLIFE  Keep track of various End of Life dates and support lifecycles for various products  external        True                 1.96  09/02/2023, 15:09:39\n",
       "9                  FIRST_EPSS                                     FIRST's Exploit Prediction Scoring system (EPSS)  external        True             1,058.04  12/06/2023, 11:16:44\n",
       "10           HTTP_STATUS_FILE                              Hypertext Transfer Protocol (HTTP) Status Code Registry  internal        True                 0.02  12/11/2023, 19:42:54\n",
       "11           ISO_639_LANGUAGE                                                 Language code (iso 639) mapping list  internal        True                 0.00  12/11/2023, 19:42:54\n",
       "12          LACNIC_STATISTICS                                                                LACNIC RIR Statistics  external        True                63.77  01/31/2024, 13:10:45\n",
       "13                MIKROTIK_OS                                                 Mikrotik Operational System releases  external        True                 0.01  09/02/2023, 15:31:22\n",
       "14                NVD_CVE_LIB                                                 NIST National Vulnerability Database  external        True                33.83  01/10/2024, 12:30:51\n",
       "15           PT_BR_DICTIONARY                              List of pt-br words with length more than 2 characteres  internal        True                10.86  12/11/2023, 19:42:54\n",
       "16               RDAP/DATASET                                            RDAP dataset generated from a list of IPs  external        True                 4.79  09/02/2023, 15:30:33\n",
       "17                  RDAP/TREE                              A interval tree generated during RDAP dataset creation.  external        True                 2.61  09/02/2023, 15:30:32\n",
       "18          UTF8_MAPPING_FILE                                                                   UTF-8 Code mapping  internal        True                 0.00  12/11/2023, 19:42:54"
      ]
     },
     "metadata": {},
     "output_type": "display_data"
    }
   ],
   "source": [
    "ds.list_datasets()"
   ]
  },
  {
   "cell_type": "markdown",
   "id": "89cb3886",
   "metadata": {
    "jp-MarkdownHeadingCollapsed": true,
    "tags": []
   },
   "source": [
    "## NVD's CVE Library"
   ]
  },
  {
   "cell_type": "code",
   "execution_count": 6,
   "id": "f7fea98d",
   "metadata": {
    "ExecuteTime": {
     "end_time": "2022-08-04T11:55:12.752184Z",
     "start_time": "2022-08-04T11:55:11.162783Z"
    },
    "execution": {
     "iopub.execute_input": "2023-03-31T13:09:58.155502Z",
     "iopub.status.busy": "2023-03-31T13:09:58.154268Z",
     "iopub.status.idle": "2023-03-31T13:10:06.190757Z",
     "shell.execute_reply": "2023-03-31T13:10:06.189061Z",
     "shell.execute_reply.started": "2023-03-31T13:09:58.155411Z"
    },
    "tags": []
   },
   "outputs": [
    {
     "name": "stderr",
     "output_type": "stream",
     "text": [
      "                                                                                \r"
     ]
    },
    {
     "data": {
      "text/plain": [
       "211243"
      ]
     },
     "execution_count": 6,
     "metadata": {},
     "output_type": "execute_result"
    }
   ],
   "source": [
    "ds1 = ds.read_dataset(\"NVD_CVE_LIB\")\n",
    "ds1.count()"
   ]
  },
  {
   "cell_type": "code",
   "execution_count": 7,
   "id": "cb269e4b",
   "metadata": {
    "ExecuteTime": {
     "end_time": "2022-08-04T11:57:53.225441Z",
     "start_time": "2022-08-04T11:57:53.127891Z"
    },
    "execution": {
     "iopub.execute_input": "2023-03-31T13:10:06.195697Z",
     "iopub.status.busy": "2023-03-31T13:10:06.194587Z",
     "iopub.status.idle": "2023-03-31T13:10:06.281620Z",
     "shell.execute_reply": "2023-03-31T13:10:06.280100Z",
     "shell.execute_reply.started": "2023-03-31T13:10:06.195615Z"
    },
    "tags": []
   },
   "outputs": [
    {
     "name": "stdout",
     "output_type": "stream",
     "text": [
      "root\n",
      " |-- cve_id: string (nullable = true)\n",
      " |-- description: string (nullable = true)\n",
      " |-- cvssv2: double (nullable = true)\n",
      " |-- cvssv3: double (nullable = true)\n",
      " |-- publishedDate: date (nullable = true)\n",
      " |-- lastModifiedDate: string (nullable = true)\n",
      " |-- baseMetricV2: struct (nullable = true)\n",
      " |    |-- acInsufInfo: boolean (nullable = true)\n",
      " |    |-- exploitabilityScore: float (nullable = true)\n",
      " |    |-- impactScore: float (nullable = true)\n",
      " |    |-- obtainAllPrivilege: boolean (nullable = true)\n",
      " |    |-- obtainOtherPrivilege: boolean (nullable = true)\n",
      " |    |-- obtainUserPrivilege: boolean (nullable = true)\n",
      " |    |-- severity: string (nullable = true)\n",
      " |    |-- userInteractionRequired: boolean (nullable = true)\n",
      " |    |-- cvssV2_accessComplexity: string (nullable = true)\n",
      " |    |-- cvssV2_accessVector: string (nullable = true)\n",
      " |    |-- cvssV2_authentication: string (nullable = true)\n",
      " |    |-- cvssV2_availabilityImpact: string (nullable = true)\n",
      " |    |-- cvssV2_baseScore: float (nullable = true)\n",
      " |    |-- cvssV2_confidentialityImpact: string (nullable = true)\n",
      " |    |-- cvssV2_integrityImpact: string (nullable = true)\n",
      " |    |-- cvssV2_vectorString: string (nullable = true)\n",
      " |    |-- cvssV2_version: string (nullable = true)\n",
      " |-- baseMetricV3: struct (nullable = true)\n",
      " |    |-- exploitabilityScore: float (nullable = true)\n",
      " |    |-- impactScore: float (nullable = true)\n",
      " |    |-- cvssV3_attackComplexity: string (nullable = true)\n",
      " |    |-- cvssV3_availabilityImpact: string (nullable = true)\n",
      " |    |-- cvssV3_baseScore: float (nullable = true)\n",
      " |    |-- cvssV3_baseSeverity: string (nullable = true)\n",
      " |    |-- cvssV3_confidentialityImpact: string (nullable = true)\n",
      " |    |-- cvssV3_integrityImpact: string (nullable = true)\n",
      " |    |-- cvssV3_scope: string (nullable = true)\n",
      " |    |-- cvssV3_privilegesRequired: string (nullable = true)\n",
      " |    |-- cvssV3_userInteraction: string (nullable = true)\n",
      " |    |-- cvssV3_vectorString: string (nullable = true)\n",
      " |    |-- cvssV3_version: string (nullable = true)\n",
      " |-- cpe: string (nullable = true)\n",
      " |-- references: string (nullable = true)\n",
      " |-- published_year: integer (nullable = true)\n",
      " |-- rank_cvss_v2: string (nullable = true)\n",
      " |-- rank_cvss_v3: string (nullable = true)\n",
      "\n"
     ]
    }
   ],
   "source": [
    "ds1.printSchema()"
   ]
  },
  {
   "cell_type": "code",
   "execution_count": 8,
   "id": "3b8f52f7",
   "metadata": {
    "ExecuteTime": {
     "end_time": "2022-08-04T12:02:06.108245Z",
     "start_time": "2022-08-04T12:02:05.936815Z"
    },
    "execution": {
     "iopub.execute_input": "2023-03-31T13:10:06.285408Z",
     "iopub.status.busy": "2023-03-31T13:10:06.284144Z",
     "iopub.status.idle": "2023-03-31T13:10:07.785151Z",
     "shell.execute_reply": "2023-03-31T13:10:07.783405Z",
     "shell.execute_reply.started": "2023-03-31T13:10:06.285327Z"
    },
    "tags": []
   },
   "outputs": [
    {
     "name": "stdout",
     "output_type": "stream",
     "text": [
      "+-------------+--------------------+------+------+-------------+-----------------+--------------------+--------------------+--------------------+--------------------+--------------+------------+------------+\n",
      "|       cve_id|         description|cvssv2|cvssv3|publishedDate| lastModifiedDate|        baseMetricV2|        baseMetricV3|                 cpe|          references|published_year|rank_cvss_v2|rank_cvss_v3|\n",
      "+-------------+--------------------+------+------+-------------+-----------------+--------------------+--------------------+--------------------+--------------------+--------------+------------+------------+\n",
      "|CVE-2021-0001|Observable timing...|   2.1|   4.7|   2021-06-09|2021-06-28T18:03Z|{false, 3.9, 2.9,...|{1.0, 3.6, HIGH, ...|cpe:2.3:a:intel:i...|https://www.intel...|          2021|         low|      medium|\n",
      "|CVE-2021-0002|Improper conditio...|   3.6|   7.1|   2021-08-11|2021-11-30T19:43Z|{false, 3.9, 4.9,...|{1.8, 5.2, LOW, H...|                    |https://www.intel...|          2021|         low|        high|\n",
      "|CVE-2021-0003|Improper conditio...|   2.1|   5.5|   2021-08-11|2021-09-14T18:36Z|{false, 3.9, 2.9,...|{1.8, 3.6, LOW, N...|                    |https://www.intel...|          2021|         low|      medium|\n",
      "|CVE-2021-0004|Improper buffer r...|   2.1|   4.4|   2021-08-11|2022-03-31T19:45Z|{false, 3.9, 2.9,...|{0.8, 3.6, LOW, H...|                    |https://www.intel...|          2021|         low|      medium|\n",
      "|CVE-2021-0005|Uncaught exceptio...|   2.1|   4.4|   2021-08-11|2021-09-14T18:36Z|{false, 3.9, 2.9,...|{0.8, 3.6, LOW, H...|                    |https://www.intel...|          2021|         low|      medium|\n",
      "+-------------+--------------------+------+------+-------------+-----------------+--------------------+--------------------+--------------------+--------------------+--------------+------------+------------+\n",
      "only showing top 5 rows\n",
      "\n"
     ]
    }
   ],
   "source": [
    "ds1.show(5)"
   ]
  },
  {
   "cell_type": "markdown",
   "id": "3e770417-a20d-4837-a3d0-209eeabea1a0",
   "metadata": {
    "jp-MarkdownHeadingCollapsed": true,
    "tags": []
   },
   "source": [
    "## CISA's Known Exploited Vulnerabilities Catalog"
   ]
  },
  {
   "cell_type": "code",
   "execution_count": 8,
   "id": "9282a48f-5640-4a79-a87d-a2bb3dd6f4f1",
   "metadata": {
    "execution": {
     "iopub.execute_input": "2023-04-14T17:26:32.118287Z",
     "iopub.status.busy": "2023-04-14T17:26:32.117150Z",
     "iopub.status.idle": "2023-04-14T17:26:33.130392Z",
     "shell.execute_reply": "2023-04-14T17:26:33.128225Z",
     "shell.execute_reply.started": "2023-04-14T17:26:32.118191Z"
    },
    "tags": []
   },
   "outputs": [
    {
     "data": {
      "text/plain": [
       "916"
      ]
     },
     "execution_count": 8,
     "metadata": {},
     "output_type": "execute_result"
    }
   ],
   "source": [
    "ds2 = ds.read_dataset(\"CISA_EXPLOITS\")\n",
    "ds2.count()"
   ]
  },
  {
   "cell_type": "code",
   "execution_count": 9,
   "id": "80d79bae-9e0a-4a50-b57f-b68790ab8ba0",
   "metadata": {
    "execution": {
     "iopub.execute_input": "2023-04-14T17:26:33.485664Z",
     "iopub.status.busy": "2023-04-14T17:26:33.484312Z",
     "iopub.status.idle": "2023-04-14T17:26:33.569089Z",
     "shell.execute_reply": "2023-04-14T17:26:33.566526Z",
     "shell.execute_reply.started": "2023-04-14T17:26:33.485567Z"
    },
    "tags": []
   },
   "outputs": [
    {
     "name": "stdout",
     "output_type": "stream",
     "text": [
      "root\n",
      " |-- cve_id: string (nullable = true)\n",
      " |-- vendorProject: string (nullable = true)\n",
      " |-- product: string (nullable = true)\n",
      " |-- vulnerabilityName: string (nullable = true)\n",
      " |-- dateAdded: string (nullable = true)\n",
      " |-- shortDescription: string (nullable = true)\n",
      " |-- requiredAction: string (nullable = true)\n",
      " |-- dueDate: string (nullable = true)\n",
      " |-- notes: string (nullable = true)\n",
      "\n"
     ]
    }
   ],
   "source": [
    "ds2.printSchema()"
   ]
  },
  {
   "cell_type": "code",
   "execution_count": 10,
   "id": "192a6bfc-40c7-4042-8d30-ae7c930da234",
   "metadata": {
    "execution": {
     "iopub.execute_input": "2023-04-14T17:26:34.505071Z",
     "iopub.status.busy": "2023-04-14T17:26:34.503668Z",
     "iopub.status.idle": "2023-04-14T17:26:34.785070Z",
     "shell.execute_reply": "2023-04-14T17:26:34.783569Z",
     "shell.execute_reply.started": "2023-04-14T17:26:34.504980Z"
    },
    "tags": []
   },
   "outputs": [
    {
     "name": "stdout",
     "output_type": "stream",
     "text": [
      "+--------------+-------------+------------------+--------------------+----------+--------------------+--------------------+----------+-----+\n",
      "|        cve_id|vendorProject|           product|   vulnerabilityName| dateAdded|    shortDescription|      requiredAction|   dueDate|notes|\n",
      "+--------------+-------------+------------------+--------------------+----------+--------------------+--------------------+----------+-----+\n",
      "|CVE-2021-27104|    Accellion|               FTA|Accellion FTA OS ...|2021-11-03|Accellion FTA 9_1...|Apply updates per...|2021-11-17| null|\n",
      "|CVE-2021-27102|    Accellion|               FTA|Accellion FTA OS ...|2021-11-03|Accellion FTA 9_1...|Apply updates per...|2021-11-17| null|\n",
      "|CVE-2021-27101|    Accellion|               FTA|Accellion FTA SQL...|2021-11-03|Accellion FTA 9_1...|Apply updates per...|2021-11-17| null|\n",
      "|CVE-2021-27103|    Accellion|               FTA|Accellion FTA SSR...|2021-11-03|Accellion FTA 9_1...|Apply updates per...|2021-11-17| null|\n",
      "|CVE-2021-21017|        Adobe|Acrobat and Reader|Adobe Acrobat and...|2021-11-03|Acrobat Reader DC...|Apply updates per...|2021-11-17| null|\n",
      "+--------------+-------------+------------------+--------------------+----------+--------------------+--------------------+----------+-----+\n",
      "only showing top 5 rows\n",
      "\n"
     ]
    }
   ],
   "source": [
    "ds2.show(5)"
   ]
  },
  {
   "cell_type": "markdown",
   "id": "7339f680",
   "metadata": {
    "ExecuteTime": {
     "end_time": "2022-08-04T11:59:45.252657Z",
     "start_time": "2022-08-04T11:59:45.214568Z"
    },
    "jp-MarkdownHeadingCollapsed": true,
    "tags": []
   },
   "source": [
    "## HTTP Status Code List"
   ]
  },
  {
   "cell_type": "code",
   "execution_count": 8,
   "id": "de33ab17",
   "metadata": {
    "ExecuteTime": {
     "end_time": "2022-08-04T11:59:14.713206Z",
     "start_time": "2022-08-04T11:59:14.060683Z"
    }
   },
   "outputs": [
    {
     "data": {
      "text/plain": [
       "99"
      ]
     },
     "execution_count": 8,
     "metadata": {},
     "output_type": "execute_result"
    }
   ],
   "source": [
    "ds2 = ds.read_dataset(\"HTTP_STATUS_FILE\")\n",
    "ds2.count()"
   ]
  },
  {
   "cell_type": "code",
   "execution_count": 9,
   "id": "1d4ee57f",
   "metadata": {
    "ExecuteTime": {
     "end_time": "2022-08-04T11:59:16.084513Z",
     "start_time": "2022-08-04T11:59:16.042123Z"
    }
   },
   "outputs": [
    {
     "name": "stdout",
     "output_type": "stream",
     "text": [
      "root\n",
      " |-- code: string (nullable = true)\n",
      " |-- name: string (nullable = true)\n",
      " |-- description: string (nullable = true)\n",
      " |-- group: string (nullable = true)\n",
      " |-- reference: string (nullable = true)\n",
      "\n"
     ]
    }
   ],
   "source": [
    "ds2.printSchema()"
   ]
  },
  {
   "cell_type": "code",
   "execution_count": 10,
   "id": "e6abead4",
   "metadata": {
    "ExecuteTime": {
     "end_time": "2022-08-04T12:01:40.196849Z",
     "start_time": "2022-08-04T12:01:40.032183Z"
    }
   },
   "outputs": [
    {
     "name": "stdout",
     "output_type": "stream",
     "text": [
      "+----+--------------------+--------------------+--------------------+--------------------+\n",
      "|code|                name|         description|               group|           reference|\n",
      "+----+--------------------+--------------------+--------------------+--------------------+\n",
      "|null|          EMPTY_CODE|                null|                null|                null|\n",
      "| 100|   100_HTTP_CONTINUE|            Continue|Informational - R...|[RFC9110, Section...|\n",
      "| 101|101_HTTP_SWITCHIN...| Switching Protocols|Informational - R...|[RFC9110, Section...|\n",
      "| 102| 102_HTTP_PROCESSING|This code indicat...|Informational - R...|           [RFC2518]|\n",
      "| 103|103_HTTP_EARLY_HINTS|This status code ...|Informational - R...|           [RFC8297]|\n",
      "+----+--------------------+--------------------+--------------------+--------------------+\n",
      "only showing top 5 rows\n",
      "\n"
     ]
    }
   ],
   "source": [
    "ds2.show(5)"
   ]
  },
  {
   "cell_type": "markdown",
   "id": "6636994e",
   "metadata": {
    "jp-MarkdownHeadingCollapsed": true,
    "tags": []
   },
   "source": [
    "## UTF-8 Code symbols "
   ]
  },
  {
   "cell_type": "code",
   "execution_count": 25,
   "id": "d7fd015f",
   "metadata": {
    "ExecuteTime": {
     "end_time": "2022-08-04T12:00:37.327892Z",
     "start_time": "2022-08-04T12:00:36.910968Z"
    }
   },
   "outputs": [
    {
     "data": {
      "text/plain": [
       "195"
      ]
     },
     "execution_count": 25,
     "metadata": {},
     "output_type": "execute_result"
    }
   ],
   "source": [
    "ds3 = ds.read_dataset(\"UTF8_MAPPING_FILE\")\n",
    "ds3.count()"
   ]
  },
  {
   "cell_type": "code",
   "execution_count": 26,
   "id": "4ada8078",
   "metadata": {
    "ExecuteTime": {
     "end_time": "2022-08-04T12:00:46.550885Z",
     "start_time": "2022-08-04T12:00:46.510340Z"
    }
   },
   "outputs": [
    {
     "name": "stdout",
     "output_type": "stream",
     "text": [
      "root\n",
      " |-- Expected: string (nullable = true)\n",
      " |-- Actual: string (nullable = true)\n",
      "\n"
     ]
    }
   ],
   "source": [
    "ds3.printSchema()"
   ]
  },
  {
   "cell_type": "code",
   "execution_count": 27,
   "id": "7625face",
   "metadata": {
    "ExecuteTime": {
     "end_time": "2022-08-04T12:01:28.471449Z",
     "start_time": "2022-08-04T12:01:28.304809Z"
    }
   },
   "outputs": [
    {
     "name": "stdout",
     "output_type": "stream",
     "text": [
      "+--------+------+\n",
      "|Expected|Actual|\n",
      "+--------+------+\n",
      "|       €|   â‚¬|\n",
      "|       ‚|   â€š|\n",
      "|       ƒ|    Æ’|\n",
      "|       „|   â€ž|\n",
      "|       …|   â€¦|\n",
      "+--------+------+\n",
      "only showing top 5 rows\n",
      "\n"
     ]
    }
   ],
   "source": [
    "ds3.show(5)"
   ]
  },
  {
   "cell_type": "markdown",
   "id": "446870a0",
   "metadata": {
    "jp-MarkdownHeadingCollapsed": true,
    "tags": []
   },
   "source": [
    "## AS Rank DataSet"
   ]
  },
  {
   "cell_type": "code",
   "execution_count": 37,
   "id": "d0ece015",
   "metadata": {
    "ExecuteTime": {
     "end_time": "2022-08-04T12:05:22.669469Z",
     "start_time": "2022-08-04T12:05:20.833705Z"
    }
   },
   "outputs": [
    {
     "name": "stderr",
     "output_type": "stream",
     "text": [
      "                                                                                \r"
     ]
    },
    {
     "data": {
      "text/plain": [
       "107239"
      ]
     },
     "execution_count": 37,
     "metadata": {},
     "output_type": "execute_result"
    }
   ],
   "source": [
    "ds4 = ds.read_dataset(\"AS_RANK_FILE\")\n",
    "ds4.count()"
   ]
  },
  {
   "cell_type": "code",
   "execution_count": 38,
   "id": "5665ed9a",
   "metadata": {
    "ExecuteTime": {
     "end_time": "2022-08-04T12:05:22.714224Z",
     "start_time": "2022-08-04T12:05:22.674430Z"
    }
   },
   "outputs": [
    {
     "name": "stdout",
     "output_type": "stream",
     "text": [
      "root\n",
      " |-- asn: string (nullable = true)\n",
      " |-- asnName: string (nullable = true)\n",
      " |-- country_iso: string (nullable = true)\n",
      " |-- country: string (nullable = true)\n",
      " |-- rank: integer (nullable = true)\n",
      " |-- organization_name: string (nullable = true)\n",
      " |-- organization_id: string (nullable = true)\n",
      "\n"
     ]
    }
   ],
   "source": [
    "ds4.printSchema()"
   ]
  },
  {
   "cell_type": "markdown",
   "id": "6927e527",
   "metadata": {
    "jp-MarkdownHeadingCollapsed": true,
    "tags": []
   },
   "source": [
    "## AS Type DataSet"
   ]
  },
  {
   "cell_type": "code",
   "execution_count": 40,
   "id": "a384f9d1",
   "metadata": {
    "ExecuteTime": {
     "end_time": "2022-08-04T12:06:09.452200Z",
     "start_time": "2022-08-04T12:06:08.647274Z"
    }
   },
   "outputs": [
    {
     "data": {
      "text/plain": [
       "69564"
      ]
     },
     "execution_count": 40,
     "metadata": {},
     "output_type": "execute_result"
    }
   ],
   "source": [
    "ds5 = ds.read_dataset(\"AS_TYPE_FILE\")\n",
    "ds5.count()"
   ]
  },
  {
   "cell_type": "code",
   "execution_count": 41,
   "id": "fbeb8e92",
   "metadata": {
    "ExecuteTime": {
     "end_time": "2022-08-04T12:06:10.667776Z",
     "start_time": "2022-08-04T12:06:10.628276Z"
    }
   },
   "outputs": [
    {
     "name": "stdout",
     "output_type": "stream",
     "text": [
      "root\n",
      " |-- asn: string (nullable = true)\n",
      " |-- class: string (nullable = true)\n",
      " |-- type: string (nullable = true)\n",
      "\n"
     ]
    }
   ],
   "source": [
    "ds5.printSchema()"
   ]
  },
  {
   "cell_type": "markdown",
   "id": "690aa001",
   "metadata": {
    "jp-MarkdownHeadingCollapsed": true,
    "tags": []
   },
   "source": [
    "## Brazil Cities DataSet"
   ]
  },
  {
   "cell_type": "code",
   "execution_count": 47,
   "id": "15e30913",
   "metadata": {
    "ExecuteTime": {
     "end_time": "2022-08-04T12:10:28.592955Z",
     "start_time": "2022-08-04T12:10:27.418970Z"
    }
   },
   "outputs": [
    {
     "name": "stderr",
     "output_type": "stream",
     "text": [
      "                                                                                \r"
     ]
    },
    {
     "data": {
      "text/plain": [
       "5578"
      ]
     },
     "execution_count": 47,
     "metadata": {},
     "output_type": "execute_result"
    }
   ],
   "source": [
    "ds6 = ds.read_dataset(\"BRAZILIAN_CITIES\")\n",
    "ds6.count()"
   ]
  },
  {
   "cell_type": "code",
   "execution_count": 48,
   "id": "80d07e6b",
   "metadata": {
    "ExecuteTime": {
     "end_time": "2022-08-04T12:10:30.184679Z",
     "start_time": "2022-08-04T12:10:30.142833Z"
    }
   },
   "outputs": [
    {
     "name": "stdout",
     "output_type": "stream",
     "text": [
      "root\n",
      " |-- CITY: string (nullable = true)\n",
      " |-- STATE: string (nullable = true)\n",
      " |-- CAPITAL: string (nullable = true)\n",
      " |-- IBGE_RES_POP: string (nullable = true)\n",
      " |-- IBGE_RES_POP_BRAS: string (nullable = true)\n",
      " |-- IBGE_RES_POP_ESTR: string (nullable = true)\n",
      " |-- IBGE_DU: string (nullable = true)\n",
      " |-- IBGE_DU_URBAN: string (nullable = true)\n",
      " |-- IBGE_DU_RURAL: string (nullable = true)\n",
      " |-- IBGE_POP: string (nullable = true)\n",
      " |-- IBGE_1: string (nullable = true)\n",
      " |-- IBGE_1-4: string (nullable = true)\n",
      " |-- IBGE_5-9: string (nullable = true)\n",
      " |-- IBGE_10-14: string (nullable = true)\n",
      " |-- IBGE_15-59: string (nullable = true)\n",
      " |-- IBGE_60+: string (nullable = true)\n",
      " |-- IBGE_PLANTED_AREA: string (nullable = true)\n",
      " |-- IBGE_CROP_PRODUCTION_$: string (nullable = true)\n",
      " |-- IDHM Ranking 2010: string (nullable = true)\n",
      " |-- IDHM: string (nullable = true)\n",
      " |-- IDHM_Renda: string (nullable = true)\n",
      " |-- IDHM_Longevidade: string (nullable = true)\n",
      " |-- IDHM_Educacao: string (nullable = true)\n",
      " |-- LONG: string (nullable = true)\n",
      " |-- LAT: string (nullable = true)\n",
      " |-- ALT: string (nullable = true)\n",
      " |-- PAY_TV: string (nullable = true)\n",
      " |-- FIXED_PHONES: string (nullable = true)\n",
      " |-- AREA: string (nullable = true)\n",
      " |-- REGIAO_TUR: string (nullable = true)\n",
      " |-- CATEGORIA_TUR: string (nullable = true)\n",
      " |-- ESTIMATED_POP: string (nullable = true)\n",
      " |-- RURAL_URBAN: string (nullable = true)\n",
      " |-- GVA_AGROPEC: string (nullable = true)\n",
      " |-- GVA_INDUSTRY: string (nullable = true)\n",
      " |-- GVA_SERVICES: string (nullable = true)\n",
      " |-- GVA_PUBLIC: string (nullable = true)\n",
      " |-- GVA_TOTAL: string (nullable = true)\n",
      " |-- TAXES: string (nullable = true)\n",
      " |-- GDP: string (nullable = true)\n",
      " |-- POP_GDP: string (nullable = true)\n",
      " |-- GDP_CAPITA: string (nullable = true)\n",
      " |-- GVA_MAIN: string (nullable = true)\n",
      " |-- MUN_EXPENDIT: string (nullable = true)\n",
      " |-- COMP_TOT: string (nullable = true)\n",
      " |-- COMP_A: string (nullable = true)\n",
      " |-- COMP_B: string (nullable = true)\n",
      " |-- COMP_C: string (nullable = true)\n",
      " |-- COMP_D: string (nullable = true)\n",
      " |-- COMP_E: string (nullable = true)\n",
      " |-- COMP_F: string (nullable = true)\n",
      " |-- COMP_G: string (nullable = true)\n",
      " |-- COMP_H: string (nullable = true)\n",
      " |-- COMP_I: string (nullable = true)\n",
      " |-- COMP_J: string (nullable = true)\n",
      " |-- COMP_K: string (nullable = true)\n",
      " |-- COMP_L: string (nullable = true)\n",
      " |-- COMP_M: string (nullable = true)\n",
      " |-- COMP_N: string (nullable = true)\n",
      " |-- COMP_O: string (nullable = true)\n",
      " |-- COMP_P: string (nullable = true)\n",
      " |-- COMP_Q: string (nullable = true)\n",
      " |-- COMP_R: string (nullable = true)\n",
      " |-- COMP_S: string (nullable = true)\n",
      " |-- COMP_T: string (nullable = true)\n",
      " |-- COMP_U: string (nullable = true)\n",
      " |-- HOTELS: string (nullable = true)\n",
      " |-- BEDS: string (nullable = true)\n",
      " |-- Pr_Agencies: string (nullable = true)\n",
      " |-- Pu_Agencies: string (nullable = true)\n",
      " |-- Pr_Bank: string (nullable = true)\n",
      " |-- Pu_Bank: string (nullable = true)\n",
      " |-- Pr_Assets: string (nullable = true)\n",
      " |-- Pu_Assets: string (nullable = true)\n",
      " |-- Cars: string (nullable = true)\n",
      " |-- Motorcycles: string (nullable = true)\n",
      " |-- Wheeled_tractor: string (nullable = true)\n",
      " |-- UBER: string (nullable = true)\n",
      " |-- MAC: string (nullable = true)\n",
      " |-- WAL-MART: string (nullable = true)\n",
      " |-- POST_OFFICES: string (nullable = true)\n",
      "\n"
     ]
    }
   ],
   "source": [
    "ds6.printSchema()"
   ]
  },
  {
   "cell_type": "markdown",
   "id": "f8e3f7fb",
   "metadata": {
    "jp-MarkdownHeadingCollapsed": true,
    "tags": []
   },
   "source": [
    "## Mikrotik OS Release Version"
   ]
  },
  {
   "cell_type": "code",
   "execution_count": 60,
   "id": "5b2a2f62",
   "metadata": {
    "ExecuteTime": {
     "end_time": "2022-08-04T12:13:03.317490Z",
     "start_time": "2022-08-04T12:13:03.028000Z"
    }
   },
   "outputs": [
    {
     "name": "stderr",
     "output_type": "stream",
     "text": [
      "22/08/04 09:13:03 WARN CacheManager: Asked to cache already cached data.\n"
     ]
    },
    {
     "data": {
      "text/plain": [
       "351"
      ]
     },
     "execution_count": 60,
     "metadata": {},
     "output_type": "execute_result"
    }
   ],
   "source": [
    "ds8 = ds.read_dataset(\"MIKROTIK_OS\")\n",
    "ds8.count()"
   ]
  },
  {
   "cell_type": "code",
   "execution_count": 56,
   "id": "921a7123",
   "metadata": {
    "ExecuteTime": {
     "end_time": "2022-08-04T12:12:18.998021Z",
     "start_time": "2022-08-04T12:12:18.973955Z"
    }
   },
   "outputs": [
    {
     "name": "stdout",
     "output_type": "stream",
     "text": [
      "root\n",
      " |-- deployment: string (nullable = true)\n",
      " |-- release: string (nullable = true)\n",
      " |-- date: string (nullable = true)\n",
      "\n"
     ]
    }
   ],
   "source": [
    "ds8.printSchema()"
   ]
  },
  {
   "cell_type": "code",
   "execution_count": 57,
   "id": "aad5f373",
   "metadata": {
    "ExecuteTime": {
     "end_time": "2022-08-04T12:12:27.245995Z",
     "start_time": "2022-08-04T12:12:27.121341Z"
    }
   },
   "outputs": [
    {
     "name": "stdout",
     "output_type": "stream",
     "text": [
      "+----------+-------+----------+\n",
      "|deployment|release|      date|\n",
      "+----------+-------+----------+\n",
      "|    Stable| 6.49.4|2022-02-25|\n",
      "|   Testing| 7.2rc4|2022-02-22|\n",
      "|    Stable| 6.49.3|2022-02-15|\n",
      "|    Stable|  7.1.3|2022-02-11|\n",
      "|    Stable|  7.1.2|2022-02-03|\n",
      "+----------+-------+----------+\n",
      "only showing top 5 rows\n",
      "\n"
     ]
    }
   ],
   "source": [
    "ds8.show(5)"
   ]
  },
  {
   "cell_type": "markdown",
   "id": "0d7f5fef",
   "metadata": {
    "jp-MarkdownHeadingCollapsed": true,
    "tags": []
   },
   "source": [
    "## Language code (iso 639) mapping list"
   ]
  },
  {
   "cell_type": "code",
   "execution_count": 61,
   "id": "52c63032",
   "metadata": {
    "ExecuteTime": {
     "end_time": "2022-08-04T12:13:11.137398Z",
     "start_time": "2022-08-04T12:13:10.823100Z"
    }
   },
   "outputs": [
    {
     "name": "stderr",
     "output_type": "stream",
     "text": [
      "22/08/04 09:13:11 WARN CacheManager: Asked to cache already cached data.\n"
     ]
    },
    {
     "data": {
      "text/plain": [
       "184"
      ]
     },
     "execution_count": 61,
     "metadata": {},
     "output_type": "execute_result"
    }
   ],
   "source": [
    "ds9 = ds.read_dataset(\"ISO_639_LANGUAGE\")\n",
    "ds9.count()"
   ]
  },
  {
   "cell_type": "code",
   "execution_count": 62,
   "id": "7ea6185f",
   "metadata": {
    "ExecuteTime": {
     "end_time": "2022-08-04T12:13:13.078168Z",
     "start_time": "2022-08-04T12:13:13.038607Z"
    }
   },
   "outputs": [
    {
     "name": "stdout",
     "output_type": "stream",
     "text": [
      "root\n",
      " |-- iso: string (nullable = true)\n",
      " |-- language: string (nullable = true)\n",
      "\n"
     ]
    }
   ],
   "source": [
    "ds9.printSchema()"
   ]
  },
  {
   "cell_type": "code",
   "execution_count": 63,
   "id": "08225b2c",
   "metadata": {
    "ExecuteTime": {
     "end_time": "2022-08-04T12:13:13.867739Z",
     "start_time": "2022-08-04T12:13:13.776013Z"
    }
   },
   "outputs": [
    {
     "name": "stdout",
     "output_type": "stream",
     "text": [
      "+---+---------+\n",
      "|iso| language|\n",
      "+---+---------+\n",
      "| ab|   Abkhaz|\n",
      "| aa|     Afar|\n",
      "| af|Afrikaans|\n",
      "| ak|     Akan|\n",
      "| sq| Albanian|\n",
      "+---+---------+\n",
      "only showing top 5 rows\n",
      "\n"
     ]
    }
   ],
   "source": [
    "ds9.show(5)"
   ]
  },
  {
   "cell_type": "markdown",
   "id": "708bdbaa",
   "metadata": {
    "jp-MarkdownHeadingCollapsed": true,
    "tags": []
   },
   "source": [
    "## PT-BR Accented words"
   ]
  },
  {
   "cell_type": "code",
   "execution_count": 25,
   "id": "e74c16a4",
   "metadata": {
    "ExecuteTime": {
     "end_time": "2022-08-08T15:27:05.359873Z",
     "start_time": "2022-08-08T15:27:05.027622Z"
    }
   },
   "outputs": [
    {
     "name": "stderr",
     "output_type": "stream",
     "text": [
      "22/08/08 12:27:05 WARN CacheManager: Asked to cache already cached data.\n"
     ]
    },
    {
     "data": {
      "text/plain": [
       "287883"
      ]
     },
     "execution_count": 25,
     "metadata": {},
     "output_type": "execute_result"
    }
   ],
   "source": [
    "ds10 = ds.read_dataset(\"ACCENTED_WORDS_PT_BR_FILE\")\n",
    "ds10.count()"
   ]
  },
  {
   "cell_type": "code",
   "execution_count": 26,
   "id": "fc97d66e",
   "metadata": {
    "ExecuteTime": {
     "end_time": "2022-08-08T15:27:07.807594Z",
     "start_time": "2022-08-08T15:27:07.769351Z"
    }
   },
   "outputs": [
    {
     "name": "stdout",
     "output_type": "stream",
     "text": [
      "root\n",
      " |-- word: string (nullable = true)\n",
      "\n"
     ]
    }
   ],
   "source": [
    "ds10.printSchema()"
   ]
  },
  {
   "cell_type": "code",
   "execution_count": 27,
   "id": "9d71b1b4",
   "metadata": {
    "ExecuteTime": {
     "end_time": "2022-08-08T15:27:08.995064Z",
     "start_time": "2022-08-08T15:27:08.875123Z"
    }
   },
   "outputs": [
    {
     "name": "stdout",
     "output_type": "stream",
     "text": [
      "+----------+\n",
      "|      word|\n",
      "+----------+\n",
      "|oleássemos|\n",
      "|filóstaque|\n",
      "|pelotearás|\n",
      "|calotípico|\n",
      "|desconvirá|\n",
      "+----------+\n",
      "only showing top 5 rows\n",
      "\n"
     ]
    }
   ],
   "source": [
    "ds10.show(5)"
   ]
  },
  {
   "cell_type": "markdown",
   "id": "0364de11",
   "metadata": {
    "jp-MarkdownHeadingCollapsed": true,
    "tags": []
   },
   "source": [
    "## PT-BR Dictionary"
   ]
  },
  {
   "cell_type": "code",
   "execution_count": 14,
   "id": "1a7899c9",
   "metadata": {
    "ExecuteTime": {
     "end_time": "2022-08-08T15:21:42.266656Z",
     "start_time": "2022-08-08T15:21:36.121836Z"
    }
   },
   "outputs": [
    {
     "name": "stderr",
     "output_type": "stream",
     "text": [
      "                                                                                \r"
     ]
    },
    {
     "data": {
      "text/plain": [
       "980279"
      ]
     },
     "execution_count": 14,
     "metadata": {},
     "output_type": "execute_result"
    }
   ],
   "source": [
    "ds11 = ds.read_dataset(\"PT_BR_DICTIONARY\")\n",
    "ds11.count()"
   ]
  },
  {
   "cell_type": "code",
   "execution_count": 15,
   "id": "9bc6f111",
   "metadata": {
    "ExecuteTime": {
     "end_time": "2022-08-08T15:21:48.049795Z",
     "start_time": "2022-08-08T15:21:48.008344Z"
    }
   },
   "outputs": [
    {
     "name": "stdout",
     "output_type": "stream",
     "text": [
      "root\n",
      " |-- word: string (nullable = true)\n",
      "\n"
     ]
    }
   ],
   "source": [
    "ds11.printSchema()"
   ]
  },
  {
   "cell_type": "code",
   "execution_count": 16,
   "id": "c90a72e1",
   "metadata": {
    "ExecuteTime": {
     "end_time": "2022-08-08T15:21:55.533162Z",
     "start_time": "2022-08-08T15:21:55.319691Z"
    }
   },
   "outputs": [
    {
     "name": "stdout",
     "output_type": "stream",
     "text": [
      "+----+\n",
      "|word|\n",
      "+----+\n",
      "| Abã|\n",
      "| Aci|\n",
      "| Acã|\n",
      "| Adã|\n",
      "| Aim|\n",
      "+----+\n",
      "only showing top 5 rows\n",
      "\n"
     ]
    }
   ],
   "source": [
    "ds11.show(5)"
   ]
  },
  {
   "cell_type": "markdown",
   "id": "6d9424e7-4c64-41a4-a696-b0d28cefecb9",
   "metadata": {
    "jp-MarkdownHeadingCollapsed": true,
    "tags": []
   },
   "source": [
    "## Federal Revenue of Brazil"
   ]
  },
  {
   "cell_type": "code",
   "execution_count": 6,
   "id": "d21fcff1-f467-46e0-b1fa-c2719882eb9d",
   "metadata": {
    "execution": {
     "iopub.execute_input": "2023-07-14T20:00:18.793989Z",
     "iopub.status.busy": "2023-07-14T20:00:18.792762Z",
     "iopub.status.idle": "2023-07-14T20:00:27.966916Z",
     "shell.execute_reply": "2023-07-14T20:00:27.965533Z",
     "shell.execute_reply.started": "2023-07-14T20:00:18.793895Z"
    }
   },
   "outputs": [
    {
     "name": "stderr",
     "output_type": "stream",
     "text": [
      "                                                                                \r"
     ]
    },
    {
     "data": {
      "text/plain": [
       "53642858"
      ]
     },
     "execution_count": 6,
     "metadata": {},
     "output_type": "execute_result"
    }
   ],
   "source": [
    "ds12 = ds.read_dataset(\"BRAZILIAN_RF\")\n",
    "ds12.count()"
   ]
  },
  {
   "cell_type": "code",
   "execution_count": 7,
   "id": "4e344688-eadb-4c6a-a286-2df392002c3f",
   "metadata": {
    "execution": {
     "iopub.execute_input": "2023-07-14T20:00:28.715222Z",
     "iopub.status.busy": "2023-07-14T20:00:28.713939Z",
     "iopub.status.idle": "2023-07-14T20:00:28.810130Z",
     "shell.execute_reply": "2023-07-14T20:00:28.808275Z",
     "shell.execute_reply.started": "2023-07-14T20:00:28.715127Z"
    }
   },
   "outputs": [
    {
     "name": "stdout",
     "output_type": "stream",
     "text": [
      "root\n",
      " |-- cnpj_basico: string (nullable = true)\n",
      " |-- identificador_matriz: string (nullable = true)\n",
      " |-- nome_fantasia: string (nullable = true)\n",
      " |-- situacao_cadastral: string (nullable = true)\n",
      " |-- situacao_cadastral_data: date (nullable = true)\n",
      " |-- nome_cidade_exterior: string (nullable = true)\n",
      " |-- data_inicio_atividade: date (nullable = true)\n",
      " |-- cnae_fiscal_principal_cod: string (nullable = true)\n",
      " |-- cnae_fiscal_secundaria_cod: string (nullable = true)\n",
      " |-- endereço_tipo_logradouro: string (nullable = true)\n",
      " |-- endereço_logradouro: string (nullable = true)\n",
      " |-- endereço_numero: integer (nullable = true)\n",
      " |-- endereço_complemento: string (nullable = true)\n",
      " |-- endereço_bairro: string (nullable = true)\n",
      " |-- endereço_cep: integer (nullable = true)\n",
      " |-- endereço_uf: string (nullable = true)\n",
      " |-- contato_ddd1: integer (nullable = true)\n",
      " |-- contato_telone1: integer (nullable = true)\n",
      " |-- contato_email: string (nullable = true)\n",
      " |-- situacao_especial: string (nullable = true)\n",
      " |-- situacao_especial_data: date (nullable = true)\n",
      " |-- nome_fantasia_clean: string (nullable = true)\n",
      " |-- cnae_categorias: array (nullable = true)\n",
      " |    |-- element: string (containsNull = true)\n",
      " |-- pais: string (nullable = true)\n",
      " |-- endereco_municipio: string (nullable = true)\n",
      " |-- situacao_cadastral_motivo: string (nullable = true)\n",
      " |-- cnae_descricao: string (nullable = true)\n",
      " |-- razao_social: string (nullable = true)\n",
      " |-- qualificacao_responsavel: string (nullable = true)\n",
      " |-- capital_social_empresa: string (nullable = true)\n",
      " |-- porte_empresa: string (nullable = true)\n",
      " |-- ente_responsavel: string (nullable = true)\n",
      " |-- razao_social_clean: string (nullable = true)\n",
      " |-- natureza_juridica: string (nullable = true)\n",
      " |-- cnpj: string (nullable = true)\n",
      " |-- cnae_principal_raiz: string (nullable = true)\n",
      " |-- cnae_secao: string (nullable = true)\n",
      "\n"
     ]
    }
   ],
   "source": [
    "ds12.printSchema()"
   ]
  },
  {
   "cell_type": "markdown",
   "id": "ee2aab8c-8945-46d6-af5e-dad1861b9d69",
   "metadata": {
    "jp-MarkdownHeadingCollapsed": true
   },
   "source": [
    "## FIRST EPSS"
   ]
  },
  {
   "cell_type": "code",
   "execution_count": null,
   "id": "c977a897-fe6f-48b2-820a-df703c057516",
   "metadata": {},
   "outputs": [],
   "source": [
    "ds13 = ds.read_dataset(\"FIRST_EPSS\", check_update=True)\n",
    "ds13.count()"
   ]
  },
  {
   "cell_type": "code",
   "execution_count": 4,
   "id": "4ef7d7c5-1c29-4765-a5aa-55c2a0e58c8e",
   "metadata": {
    "execution": {
     "iopub.execute_input": "2023-12-06T13:24:30.037661Z",
     "iopub.status.busy": "2023-12-06T13:24:30.035883Z",
     "iopub.status.idle": "2023-12-06T13:24:30.885888Z",
     "shell.execute_reply": "2023-12-06T13:24:30.884732Z",
     "shell.execute_reply.started": "2023-12-06T13:24:30.037601Z"
    }
   },
   "outputs": [
    {
     "name": "stdout",
     "output_type": "stream",
     "text": [
      "+--------------+----------+----+-------------+-------+----------+\n",
      "|        cve_id|score_date|year|model_version|   epss|percentile|\n",
      "+--------------+----------+----+-------------+-------+----------+\n",
      "| CVE-2018-7422|2022-12-07|2022|  v2022.01.01|0.42738|   0.98235|\n",
      "|CVE-2020-14462|2022-06-25|2022|  v2022.01.01|0.00885|   0.25362|\n",
      "| CVE-2021-0623|2022-06-14|2022|  v2022.01.01|0.01036|   0.40087|\n",
      "| CVE-2014-5983|2022-11-03|2022|  v2022.01.01|0.00954|   0.35181|\n",
      "| CVE-2006-1587|2022-02-16|2022|  v2022.01.01| 0.0095|   0.14008|\n",
      "| CVE-2020-1447|2022-06-25|2022|  v2022.01.01|0.01875|   0.75787|\n",
      "| CVE-2007-5999|2022-10-26|2022|  v2022.01.01|0.00986|   0.36328|\n",
      "| CVE-2014-5984|2022-11-03|2022|  v2022.01.01|0.00954|   0.35181|\n",
      "|CVE-2022-31626|2022-12-07|2022|  v2022.01.01|0.46725|   0.98496|\n",
      "|CVE-2020-14470|2022-06-25|2022|  v2022.01.01|0.00885|   0.25362|\n",
      "| CVE-2021-0624|2022-06-14|2022|  v2022.01.01|0.01036|   0.40087|\n",
      "| CVE-2014-5985|2022-11-03|2022|  v2022.01.01|0.00954|   0.35181|\n",
      "| CVE-2006-1588|2022-02-16|2022|  v2022.01.01|0.01034|   0.20825|\n",
      "|CVE-2020-14472|2022-06-25|2022|  v2022.01.01|0.00885|   0.25362|\n",
      "| CVE-2007-6000|2022-10-26|2022|  v2022.01.01|0.04187|   0.86985|\n",
      "| CVE-2014-5986|2022-11-03|2022|  v2022.01.01|0.00954|   0.35181|\n",
      "| CVE-2022-2414|2022-12-07|2022|  v2022.01.01|0.09029|   0.93983|\n",
      "|CVE-2020-14473|2022-06-25|2022|  v2022.01.01|0.00885|   0.25362|\n",
      "| CVE-2021-0625|2022-06-14|2022|  v2022.01.01|0.01036|   0.40087|\n",
      "| CVE-2014-5987|2022-11-03|2022|  v2022.01.01|0.00954|   0.35181|\n",
      "+--------------+----------+----+-------------+-------+----------+\n",
      "only showing top 20 rows\n",
      "\n"
     ]
    }
   ],
   "source": [
    "ds13.show()"
   ]
  },
  {
   "cell_type": "code",
   "execution_count": 5,
   "id": "61ee5d11-3875-403f-9390-aff0dee8ab94",
   "metadata": {
    "execution": {
     "iopub.execute_input": "2023-12-06T13:24:30.890743Z",
     "iopub.status.busy": "2023-12-06T13:24:30.887414Z",
     "iopub.status.idle": "2023-12-06T13:24:42.222866Z",
     "shell.execute_reply": "2023-12-06T13:24:42.221874Z",
     "shell.execute_reply.started": "2023-12-06T13:24:30.890692Z"
    }
   },
   "outputs": [
    {
     "name": "stderr",
     "output_type": "stream",
     "text": [
      "[Stage 128:===============================================>         (5 + 1) / 6]\r"
     ]
    },
    {
     "name": "stdout",
     "output_type": "stream",
     "text": [
      "+-------------+---------------+---------------+\n",
      "|model_version|min(score_date)|max(score_date)|\n",
      "+-------------+---------------+---------------+\n",
      "|  v2021-04-14|     2021-04-14|     2022-02-03|\n",
      "|  v2022.01.01|     2022-02-04|     2023-03-06|\n",
      "|  v2023.03.01|     2023-03-07|     2023-12-06|\n",
      "+-------------+---------------+---------------+\n",
      "\n"
     ]
    },
    {
     "name": "stderr",
     "output_type": "stream",
     "text": [
      "                                                                                \r"
     ]
    }
   ],
   "source": [
    "ds13.groupby(\"model_version\")\\\n",
    "    .agg(F.min(\"score_date\"), \n",
    "         F.max(\"score_date\"))\\\n",
    "    .orderBy(\"model_version\")\\\n",
    "    .show()"
   ]
  },
  {
   "cell_type": "markdown",
   "id": "4fe259ef-ad0a-4a96-81ea-3f6a2a063474",
   "metadata": {},
   "source": [
    "## LACNIC RIR Statistics"
   ]
  },
  {
   "cell_type": "code",
   "execution_count": 4,
   "id": "84d96c87-feec-4fbb-87f8-80468b28cbc3",
   "metadata": {
    "execution": {
     "iopub.execute_input": "2024-01-31T13:23:36.617826Z",
     "iopub.status.busy": "2024-01-31T13:23:36.616834Z",
     "iopub.status.idle": "2024-01-31T13:23:50.503221Z",
     "shell.execute_reply": "2024-01-31T13:23:50.501805Z",
     "shell.execute_reply.started": "2024-01-31T13:23:36.617770Z"
    }
   },
   "outputs": [
    {
     "name": "stdout",
     "output_type": "stream",
     "text": [
      "Last crawling timestamp: 20240130\n",
      "The current dataset version is the most recent.\n",
      "The current dataset version is the most recent.\n"
     ]
    },
    {
     "name": "stderr",
     "output_type": "stream",
     "text": [
      "24/01/31 10:23:45 WARN package: Truncated the string representation of a plan since it was too large. This behavior can be adjusted by setting 'spark.sql.debug.maxToStringFields'.\n",
      "                                                                                \r"
     ]
    },
    {
     "data": {
      "text/plain": [
       "49110601"
      ]
     },
     "execution_count": 4,
     "metadata": {},
     "output_type": "execute_result"
    }
   ],
   "source": [
    "ds14 = ds.read_dataset(\"LACNIC_STATISTICS\", check_update=True)\n",
    "ds14.count()"
   ]
  },
  {
   "cell_type": "code",
   "execution_count": 5,
   "id": "ddc7464e-91dd-4de6-b485-9e1888397487",
   "metadata": {
    "execution": {
     "iopub.execute_input": "2024-01-31T13:23:50.506679Z",
     "iopub.status.busy": "2024-01-31T13:23:50.505842Z",
     "iopub.status.idle": "2024-01-31T13:23:53.114548Z",
     "shell.execute_reply": "2024-01-31T13:23:53.113477Z",
     "shell.execute_reply.started": "2024-01-31T13:23:50.506631Z"
    }
   },
   "outputs": [
    {
     "name": "stderr",
     "output_type": "stream",
     "text": [
      "[Stage 14:>                                                         (0 + 1) / 1]\r"
     ]
    },
    {
     "name": "stdout",
     "output_type": "stream",
     "text": [
      "+--------+-------+----+-----------+-----+--------+---------+------------+------------+------------+------------+\n",
      "|registry|country|type|       mask|n_ips|    date|   status|start_ip_int|  end_ip_int|crawler_date|crawler_year|\n",
      "+--------+-------+----+-----------+-----+--------+---------+------------+------------+------------+------------+\n",
      "|  lacnic|     BR|ipv4| 24.152.0.0| 1024|20200310|allocated|4.12614656E8|4.12615679E8|  2023-08-01|        2023|\n",
      "|  lacnic|     BR|ipv4| 24.152.4.0| 1024|20200312|allocated| 4.1261568E8|4.12616703E8|  2023-08-01|        2023|\n",
      "|  lacnic|     BR|ipv4| 24.152.8.0| 1024|20200309|allocated|4.12616704E8|4.12617727E8|  2023-08-01|        2023|\n",
      "|  lacnic|     BR|ipv4|24.152.12.0| 1024|20200309|allocated|4.12617728E8|4.12618751E8|  2023-08-01|        2023|\n",
      "|  lacnic|     BR|ipv4|24.152.16.0| 1024|20200312|allocated|4.12618752E8|4.12619775E8|  2023-08-01|        2023|\n",
      "|  lacnic|     BR|ipv4|24.152.20.0| 1024|20230328|allocated|4.12619776E8|4.12620799E8|  2023-08-01|        2023|\n",
      "|  lacnic|     BR|ipv4|24.152.24.0| 1024|20200313|allocated|  4.126208E8|4.12621823E8|  2023-08-01|        2023|\n",
      "|  lacnic|     BR|ipv4|24.152.28.0| 1024|20200325|allocated|4.12621824E8|4.12622847E8|  2023-08-01|        2023|\n",
      "|  lacnic|     BR|ipv4|24.152.32.0| 1024|20200310|allocated|4.12622848E8|4.12623871E8|  2023-08-01|        2023|\n",
      "|  lacnic|     BR|ipv4|24.152.36.0| 1024|20200325|allocated|4.12623872E8|4.12624895E8|  2023-08-01|        2023|\n",
      "|  lacnic|     PY|ipv4|24.152.40.0| 1024|20200320|allocated|4.12624896E8|4.12625919E8|  2023-08-01|        2023|\n",
      "|  lacnic|     BR|ipv4|24.152.44.0| 1024|20200313|allocated| 4.1262592E8|4.12626943E8|  2023-08-01|        2023|\n",
      "|  lacnic|     DO|ipv4|24.152.48.0| 1024|20200309|allocated|4.12626944E8|4.12627967E8|  2023-08-01|        2023|\n",
      "|  lacnic|     GT|ipv4|24.152.52.0| 1024|20200309|allocated|4.12627968E8|4.12628991E8|  2023-08-01|        2023|\n",
      "|  lacnic|     CO|ipv4|24.152.56.0|  256|20200430|allocated|4.12628992E8|4.12629247E8|  2023-08-01|        2023|\n",
      "|  lacnic|     AR|ipv4|24.152.57.0|  256|20200313|allocated|4.12629248E8|4.12629503E8|  2023-08-01|        2023|\n",
      "|  lacnic|     CO|ipv4|24.152.58.0|  512|20200520|allocated|4.12629504E8|4.12630015E8|  2023-08-01|        2023|\n",
      "|  lacnic|     BR|ipv4|24.152.60.0| 1024|20200316|allocated|4.12630016E8|4.12631039E8|  2023-08-01|        2023|\n",
      "|  lacnic|     BR|ipv4|24.152.64.0| 1024|20200311|allocated| 4.1263104E8|4.12632063E8|  2023-08-01|        2023|\n",
      "|  lacnic|     BR|ipv4|24.152.68.0| 1024|20200311|allocated|4.12632064E8|4.12633087E8|  2023-08-01|        2023|\n",
      "+--------+-------+----+-----------+-----+--------+---------+------------+------------+------------+------------+\n",
      "only showing top 20 rows\n",
      "\n"
     ]
    },
    {
     "name": "stderr",
     "output_type": "stream",
     "text": [
      "                                                                                \r"
     ]
    }
   ],
   "source": [
    "ds14.show()\n",
    "#.drop(\"status\").withColumnRenamed(\"date\", \"status\").withColumnRenamed(\"date\", \"status\").show()"
   ]
  },
  {
   "cell_type": "code",
   "execution_count": 10,
   "id": "032dd7d6",
   "metadata": {
    "ExecuteTime": {
     "end_time": "2022-08-08T15:27:32.816829Z",
     "start_time": "2022-08-08T15:27:32.353583Z"
    },
    "execution": {
     "iopub.execute_input": "2024-01-31T14:13:13.328374Z",
     "iopub.status.busy": "2024-01-31T14:13:13.327349Z",
     "iopub.status.idle": "2024-01-31T14:13:13.797977Z",
     "shell.execute_reply": "2024-01-31T14:13:13.795909Z",
     "shell.execute_reply.started": "2024-01-31T14:13:13.328298Z"
    },
    "tags": []
   },
   "outputs": [],
   "source": [
    "spark.stop()"
   ]
  },
  {
   "cell_type": "code",
   "execution_count": null,
   "id": "3ce8284b-b8d1-4202-ba51-9dd0c2350be9",
   "metadata": {},
   "outputs": [],
   "source": []
  }
 ],
 "metadata": {
  "kernelspec": {
   "display_name": "Python 3 (ipykernel)",
   "language": "python",
   "name": "python3"
  },
  "language_info": {
   "codemirror_mode": {
    "name": "ipython",
    "version": 3
   },
   "file_extension": ".py",
   "mimetype": "text/x-python",
   "name": "python",
   "nbconvert_exporter": "python",
   "pygments_lexer": "ipython3",
   "version": "3.11.2"
  }
 },
 "nbformat": 4,
 "nbformat_minor": 5
}
