{
 "cells": [
  {
   "cell_type": "markdown",
   "id": "875166bc",
   "metadata": {
    "slideshow": {
     "slide_type": "slide"
    }
   },
   "source": [
    "# Projeto THLOP/SAM - Demonstração\n",
    "\n",
    "**Laboratório SPEED**<br> \n",
    "**Departamento de Ciência da Computação**<br>\n",
    "**Universidade Federal de Minas Gerais**<br>\n",
    "\n",
    "Julho, 2023\n",
    "\n",
    "***\n",
    "\n",
    "Esta apresentação tem como objetivo ilustrar algumas das principais contribuições do projeto até o momento. Algumas delas, já abordadas no artigo *Caracterização Escalável de Vulnerabilidades de Segurança: um Estudo de Caso na Internet Brasileira*, no SBRC 2022 (DOI: https://doi.org/10.5753/sbrc.2022.222341).\n",
    "\n",
    "O caso de uso desta apresentação, \"Um estudo das 16 vulnerabilidades mais exploradas de 2021\", detalhado a seguir,  embora seja um exemplo específico contêm um conjunto de operações que poderiam ser utilizadas pelo CERT de forma geral. Por exemplo: \n",
    "\n",
    "* Reformatação da base do Shodan e processamento paralelo no Spark;\n",
    "* Integração com datasets externos (e.g., dados do NVD e CVE para completar as informações do Shodan e bases de cidades para geolocalização);\n",
    "* Processamento dos dados para limpeza e padronização (e.g., nome de organizações);\n",
    "* Utilização de funções e operações comuns ao processamento e análises de dados de redes como os do Shodan, de forma amigável e encapsulada;\n"
   ]
  },
  {
   "cell_type": "markdown",
   "id": "658f6755",
   "metadata": {
    "slideshow": {
     "slide_type": "slide"
    },
    "tags": []
   },
   "source": [
    "## Caso de uso: Um estudo das 16 vulnerabilidades mais exploradas de 2021\n",
    "\n",
    "Segundo uma matéria do site [CISO Advisor](https://www.cisoadvisor.com.br/as-30-vulnerabilidades-mais-exploradas-de-2020-e-2021/), um total de 16 vulnerabilidades para as quais já existe correção continuam sendo amplamente exploradas no mundo inteiro porque estão em dispositivos não atuaizados pelos seus proprietários. A lista publicada foi criada a partir de um comunicado conjunto publicado na quarta-feira dia 28 de julho, o FBI e a Cybersecurity and Infrastructure Security Agency (CISA), mais o Australian Cyber Security Center e o National Cyber Security Center do Reino Unido listaram essas vulnerabilidades mais exploradas no primeiro semestre de 2021. Segundo o comunicado, os cibercriminosos continuam a explorar as vulnerabilidades de software publicamente conhecidas – e frequentemente antigas – contra amplos conjuntos de alvos, incluindo organizações dos setores público e privado em todo o mundo.\n",
    "\n",
    "A lista de 2021 é a seguinte:\n",
    "\n",
    "- Microsoft Exchange: CVE-2021-26855, CVE-2021-26857, CVE-2021-26858 e CVE2021-27065\n",
    "- Pulse Secure: CVE-2021-22893, CVE-2021-22894, CVE-2021-22899 e CVE-2021-22900\n",
    "- Accellion: CVE-2021-27101, CVE-2021-27102, CVE-2021-27103, CVE-2021-27104\n",
    "- VMware: CVE-2021-21985\n",
    "- Fortinet: CVE-2018-13379, CVE-2020-12812 e CVE-2019-5591\n",
    "\n",
    "\n",
    "Sobre isso, queremos responder perguntas como:\n",
    "\n",
    "- Qual o grau de vulnerabilidade desses CVES? Algum desses foram encontrados no Brasil pela amostra do Shodan? \n",
    "- Como é a distribuição dessas vulnerabilidades entre as organizações no Brasil ?"
   ]
  },
  {
   "cell_type": "markdown",
   "id": "f3a2839e",
   "metadata": {
    "slideshow": {
     "slide_type": "slide"
    },
    "tags": []
   },
   "source": [
    "### 0. Importação das bibliotecas, inicialização do Spark e leitura da base do Shodan"
   ]
  },
  {
   "cell_type": "code",
   "execution_count": null,
   "id": "03dc5372",
   "metadata": {
    "ExecuteTime": {
     "end_time": "2022-08-30T19:51:17.703333Z",
     "start_time": "2022-08-30T19:51:06.917986Z"
    },
    "slideshow": {
     "slide_type": "skip"
    },
    "tags": []
   },
   "outputs": [],
   "source": [
    "import os                                                         \n",
    "from pyspark.sql import SparkSession\n",
    "from pyspark.sql.functions import * \n",
    "\n",
    "from tlhop.shodan_abstraction import DataFrame  # Extensão da API de DataFrame do Spark\n",
    "from tlhop.datasets import DataSets  # API de importaçao de base externas\n",
    "\n",
    "INPUT = \"XXXXX\"\n",
    "\n",
    "# optional settings\n",
    "TMP_PORT = os.environ[\"SPARK_UI_PORT\"]\n",
    "SPARK_TMP_PATH = os.environ[\"SPARK_TMP_PATH\"]\n",
    "\n",
    "spark = (\n",
    "    SparkSession.builder.master(\"local[10]\")\n",
    "        .config(\"spark.driver.memory\", \"40g\") \n",
    "        .config(\"spark.local.dir\", SPARK_TMP_PATH) # optional settings to force Spark to use a different UI port\n",
    "        .config(\"spark.ui.port\", TMP_PORT) # optional settings to force Spark to use a different temporary folder\n",
    "        .getOrCreate()\n",
    "        )\n",
    "\n",
    "df = spark.read.format(\"delta\").load(INPUT) # Leitura do dados do Shodan (já convertidos via ShodanDatasetManager)"
   ]
  },
  {
   "cell_type": "markdown",
   "id": "6ea4d18f",
   "metadata": {
    "ExecuteTime": {
     "end_time": "2022-08-12T13:00:13.073904Z",
     "start_time": "2022-08-12T13:00:13.063614Z"
    },
    "slideshow": {
     "slide_type": "slide"
    }
   },
   "source": [
    "### 1. Iniciando a API de base de dados externa e listando as bases de dados disponíveis"
   ]
  },
  {
   "cell_type": "code",
   "execution_count": null,
   "id": "28fbad86",
   "metadata": {
    "ExecuteTime": {
     "end_time": "2022-08-30T19:51:55.295423Z",
     "start_time": "2022-08-30T19:51:55.242581Z"
    },
    "slideshow": {
     "slide_type": "fragment"
    },
    "tags": []
   },
   "outputs": [],
   "source": [
    "ds = DataSets() # inicalizando nossa API de bases externas\n",
    "ds.list_datasets() # listando os datasets disponíveis atualmente"
   ]
  },
  {
   "cell_type": "markdown",
   "id": "bdf03d96",
   "metadata": {
    "slideshow": {
     "slide_type": "slide"
    }
   },
   "source": [
    "### 2. Carregando a base de vulnerabilidades do NIST.\n",
    "\n",
    "Essa base poderá nos dar maiores detalhes sobre detalhes sobre os CVEs informados na matéria."
   ]
  },
  {
   "cell_type": "code",
   "execution_count": null,
   "id": "2f00be39",
   "metadata": {
    "ExecuteTime": {
     "end_time": "2022-08-30T19:52:01.693120Z",
     "start_time": "2022-08-30T19:51:58.925930Z"
    },
    "slideshow": {
     "slide_type": "fragment"
    },
    "tags": []
   },
   "outputs": [],
   "source": [
    "nvd_df = ds.read_dataset(\"NVD_CVE_LIB\") # carregando a base de vulnerabilidades do NIST\n",
    "nvd_df.printSchema() # exibindo o esquema de dados desse DataFrame"
   ]
  },
  {
   "cell_type": "markdown",
   "id": "30707b68",
   "metadata": {
    "slideshow": {
     "slide_type": "slide"
    }
   },
   "source": [
    "### 2.1 Filtrando as vulnerabilidades da lista para obter informações dos CVEs\n",
    "\n",
    "Como podemos encontrar os CVEs descritos na matéria na base de dados do NIST? Uma das formas é utilizando nossa extensão da API de DataFrame do Spark, que forneçe um conjunto de operadores de alto nível, mais específicas ao contexto de análises em dados como os do Shodan. \n",
    "\n",
    "Nossa API, estendida pelo operador `shodan_extension`, implementa funções complexas, como:\n",
    " - `contains_vulnerability()`:  Verifica se um CVE está presente em um banner;\n",
    " - `cleaning_org()`: Extrai a organização vinculada ao banner e padroniza-a."
   ]
  },
  {
   "cell_type": "code",
   "execution_count": null,
   "id": "f6292b9f",
   "metadata": {
    "ExecuteTime": {
     "end_time": "2022-08-30T19:52:35.120802Z",
     "start_time": "2022-08-30T19:52:26.774813Z"
    },
    "slideshow": {
     "slide_type": "fragment"
    },
    "tags": []
   },
   "outputs": [],
   "source": [
    "cves = [\"CVE-2021-26855\", \"CVE-2021-26857\", \"CVE-2021-26858\", \"CVE2021-27065\", \"CVE-2021-22893\", \"CVE-2021-22894\", \n",
    "        \"CVE-2021-22899\", \"CVE-2021-22900\", \"CVE-2021-27101\", \"CVE-2021-27102\", \"CVE-2021-27103\", \"CVE-2021-27104\", \n",
    "        \"CVE-2021-21985\", \"CVE-2018-13379\", \"CVE-2020-12812\", \"CVE-2019-5591\"]\n",
    "\n",
    "nvd_df_filtered = (\n",
    "        nvd_df.shodan_extension.contains_vulnerability(cves, mode=\"any\", vulns_col=\"cve_id\") # filtrando os cves no NIST\n",
    "            .select(\"cve_id\", \"cvssv3\", \"publishedDate\", \"rank_cvss_v3\") # projeção de colunas\n",
    "            .orderBy(desc(\"cvssv3\"), asc(\"cve_id\")) # ordenando resultado por <CVSS (v3), CVE>\n",
    "        )\n",
    "\n",
    "nvd_df_filtered.show()"
   ]
  },
  {
   "cell_type": "markdown",
   "id": "09057c35",
   "metadata": {
    "slideshow": {
     "slide_type": "slide"
    }
   },
   "source": [
    "### 3. Essas vulnerabilidades foram encontradas na internet brasileira ?\n",
    "\n",
    "Usando a amostra de dados do Shodan (jan - jul de 2021), podemos novamente executar o `contains_vulnerability` para procurar *banners* com esses CVEs. Quantos *banners* foram encontrados no total?"
   ]
  },
  {
   "cell_type": "code",
   "execution_count": null,
   "id": "8f732f42",
   "metadata": {
    "ExecuteTime": {
     "end_time": "2022-08-30T19:53:33.266882Z",
     "start_time": "2022-08-30T19:52:45.044708Z"
    },
    "slideshow": {
     "slide_type": "fragment"
    },
    "tags": []
   },
   "outputs": [],
   "source": [
    "# contando os banners com pelo menos um cve da lista\n",
    "df.shodan_extension.contains_vulnerability(cves, mode=\"any\").count()"
   ]
  },
  {
   "cell_type": "markdown",
   "id": "baffef90",
   "metadata": {
    "slideshow": {
     "slide_type": "fragment"
    }
   },
   "source": [
    "Foram encontrados 10494 banners com tais vulnerabilidades!"
   ]
  },
  {
   "cell_type": "markdown",
   "id": "dcd4c37e",
   "metadata": {
    "slideshow": {
     "slide_type": "slide"
    }
   },
   "source": [
    "### 3.1. E se quisermos saber quais vulnerabilidades e sua frequência foram? \n",
    "\n",
    "Uma dificuldade dessa tarefa é que um *banner* pode conter 0 ou N vulnerabilidades (ou seja, a coluna `vulns_cve` é uma lista de strings), logo, não basta identificar se um *banner* possui as vulnerabilidades da lista. Precisamos transofrmar o registro para conter uma vulnerabilidade por banner (função `explode`). \n",
    "\n",
    "Depois disso, podemos realizar uma junção com a tabela do NIST (que agora contém apenas os CVEs da mátéria) para filtrar os CVEs de alvo para a computação."
   ]
  },
  {
   "cell_type": "code",
   "execution_count": null,
   "id": "7a843754",
   "metadata": {
    "ExecuteTime": {
     "end_time": "2022-08-30T19:54:08.158246Z",
     "start_time": "2022-08-30T19:53:50.981565Z"
    },
    "slideshow": {
     "slide_type": "fragment"
    },
    "tags": []
   },
   "outputs": [],
   "source": [
    "(\n",
    "    df.withColumn(\"vulns_cve\", explode(\"vulns_cve\")) # quebrando a lista de vulns em um CVE por registro\n",
    "        .join(nvd_df_filtered, col(\"vulns_cve\") == col(\"cve_id\")) # junção com o NVD/NIST para filtrar apenas os cves desejados\n",
    "        .groupby(\"vulns_cve\", \"cvssv3\", \"publishedDate\", \"rank_cvss_v3\").count() # contabilizando as ocorrências de cada cve\n",
    "        .orderBy(desc(\"vulns_cve\")) # ordenando o resultado por ordem descrescente\n",
    "        .show()\n",
    ")"
   ]
  },
  {
   "cell_type": "markdown",
   "id": "27f546b9",
   "metadata": {
    "slideshow": {
     "slide_type": "fragment"
    }
   },
   "source": [
    "Foram encontrados os CVEs 'CVE-2021-26855', 'CVE-2021-26857' e 'CVE-2021-26858' (relacionadas entre si). Essas vulnerabilidades permitem a execução remota de código do Microsoft Exchange Server."
   ]
  },
  {
   "cell_type": "markdown",
   "id": "b2f5e286",
   "metadata": {
    "slideshow": {
     "slide_type": "slide"
    }
   },
   "source": [
    "### 4. Quantas organizações possuem tais vulnerabilidades ?\n",
    "\n",
    "Para uma melhor qualidade do resultado, podemos executar o nosso operador `cleaning_org` para limpeza e padronização dos nomes das organizações. "
   ]
  },
  {
   "cell_type": "code",
   "execution_count": null,
   "id": "7e6fa01e",
   "metadata": {
    "ExecuteTime": {
     "end_time": "2022-08-30T19:55:34.726739Z",
     "start_time": "2022-08-30T19:54:48.086782Z"
    },
    "slideshow": {
     "slide_type": "fragment"
    },
    "tags": []
   },
   "outputs": [],
   "source": [
    "orgs = (\n",
    "    df.shodan_extension.contains_vulnerability(cves, mode=\"any\") # filtrando banners com pelo menos um cve da lista\n",
    "        .filter(col(\"org\").isNotNull())  # filtrar banners com informação de organização\n",
    "        .shodan_extension.cleaning_org(input_col=\"org\", output_col=\"org_clean\")  # padronização do campo de organização\n",
    "        .groupby(\"org_clean\").count()  # Contabilização a quantidade de banners com as vulnerabilidades para cada organização\n",
    "        .orderBy(desc(\"count\"))  # ordenação descrescente\n",
    ")\n",
    "orgs.count()"
   ]
  },
  {
   "cell_type": "markdown",
   "id": "f3326fa5",
   "metadata": {
    "slideshow": {
     "slide_type": "slide"
    }
   },
   "source": [
    "### 4.1. Como podemos computar o PDF(Função densidade) ou CDF (Função de distribuição cumulativa) da frequência dessas organizações?  \n",
    "\n",
    "Para isso, podemos usar o nosso operador `gen_cdf_pdf`, que recebe uma coluna que representa uma frequência de valores para a computação da PDF/CDF."
   ]
  },
  {
   "cell_type": "code",
   "execution_count": null,
   "id": "31153b24",
   "metadata": {
    "ExecuteTime": {
     "end_time": "2022-08-22T21:52:05.182194Z",
     "start_time": "2022-08-22T21:52:04.389624Z"
    },
    "slideshow": {
     "slide_type": "fragment"
    },
    "tags": []
   },
   "outputs": [],
   "source": [
    "orgs_list = (\n",
    "    df.shodan_extension.contains_vulnerability(cves, mode=\"any\") # filtrando banners com pelo menos um cve da lista\n",
    "        .shodan_extension.cleaning_org(input_col=\"org\", output_col=\"org_clean\")  # padronização do campo de organização\n",
    "        .shodan_extension.gen_cdf_pdf(\"org_clean\", to_pandas=True) # Contabiliza a quantidade de banners com as \n",
    "          # vulnerabilidades para cada organização e gera a CDF/PDF da sua distribuição, salvando o resultado como Pandas\n",
    "          # para o plot\n",
    ")\n",
    "orgs_list.plot(y=[\"org_clean_pdf\"], figsize=(10, 5))"
   ]
  },
  {
   "cell_type": "markdown",
   "id": "484cceae-5d3b-4da4-b9fe-c72f05ce1851",
   "metadata": {},
   "source": [
    "A lista abaixo apresenta a frequência (anonimizada) das top 5 organizações com mais banners identificadas com as vulnerabilidades alvo:"
   ]
  },
  {
   "cell_type": "code",
   "execution_count": null,
   "id": "e1d5622e-2a4f-4f8f-9314-aa3f8a08cf0d",
   "metadata": {
    "tags": []
   },
   "outputs": [],
   "source": [
    "orgs_list[[\"frequency\", \"org_clean_pdf\"]][0:5]"
   ]
  },
  {
   "cell_type": "markdown",
   "id": "be15d70f",
   "metadata": {
    "slideshow": {
     "slide_type": "slide"
    }
   },
   "source": [
    "### 5. Georreferenciamento\n",
    "\n",
    "Nessa última parte, vamos querer relacionar as vulnerabilidades e organizações as cidades brasileirias. Para isso, vamos precisar de 2 etapas: \n",
    "\n",
    "1. Recomputar a lista de organizações/vulnerabilidades, relacionando suas cidades de atuação;\n",
    "2. Incluir informações da base externa de cidades brasileiras para um melhor georrefeciamento; "
   ]
  },
  {
   "cell_type": "markdown",
   "id": "e9df1b61",
   "metadata": {
    "slideshow": {
     "slide_type": "subslide"
    }
   },
   "source": [
    "### 5.1. Gerando lista das organizações por cidade\n",
    "\n",
    "Procedimento igual ao feito na etapa 4, apenas com adição do campo `city`;"
   ]
  },
  {
   "cell_type": "code",
   "execution_count": null,
   "id": "fa5e486f",
   "metadata": {
    "ExecuteTime": {
     "end_time": "2022-08-30T19:58:56.168653Z",
     "start_time": "2022-08-30T19:58:11.255413Z"
    },
    "slideshow": {
     "slide_type": "fragment"
    },
    "tags": []
   },
   "outputs": [],
   "source": [
    "step1 = (\n",
    "    df.shodan_extension.contains_vulnerability(cves, mode=\"any\") # filtrando banners com pelo menos um cve da lista\n",
    "        .filter(col(\"org\").isNotNull())  # filtrar banners com informação de organização\n",
    "        .shodan_extension.cleaning_org()  # padronização do campo de organização\n",
    "        .filter(col(\"city\").isNotNull())  # filtrar banners com informação de cidade\n",
    "        .groupby(\"org_clean\", \"city\").count()  # Contabilização da tupla <organizacao, cidade>\n",
    ")"
   ]
  },
  {
   "cell_type": "markdown",
   "id": "f4a19706",
   "metadata": {
    "slideshow": {
     "slide_type": "slide"
    }
   },
   "source": [
    "### 5.2. Incoporando e mesclando a base das cidades brasileiras na relação de organizações.\n",
    "\n",
    "Utilizando a base de cidades brasileiras, podemos estender as informações providas pelo Shodan com outras diversas informações como: informação se a cidade é capital, número de habitantes, UF, dados censitários, entre outras. No nosso caso, utilizamos essa base no exemplo para uma melhor definição do campo de Latitude e Longitude. Embora o Shodan já forneça essas duas informações, a informação não é confiável.\n",
    "\n",
    "No código a seguir, realizamos a inclusão dessa base para a computação de quantas organizações distintas foram identificadas em cada cidade e qual a soma de banners coletados pelo Shodan nessa cidade, a partir dessas organizações."
   ]
  },
  {
   "cell_type": "code",
   "execution_count": null,
   "id": "554dbf49",
   "metadata": {
    "ExecuteTime": {
     "end_time": "2022-08-30T20:08:40.962273Z",
     "start_time": "2022-08-30T20:08:06.650905Z"
    },
    "slideshow": {
     "slide_type": "fragment"
    },
    "tags": []
   },
   "outputs": [],
   "source": [
    "brazil_cities = ds.read_dataset(\"BRAZILIAN_CITIES\")\\\n",
    "    .select(\"CITY\", \"STATE\", \"CAPITAL\", \"LAT\", \"LONG\")  # projeção de campos de interesse\n",
    "\n",
    "step2 = (\n",
    "    step1.join(brazil_cities, step1[\"city\"] == brazil_cities[\"CITY\"])          # junção com a base de cidades brasileiras\n",
    "        .groupby(step1[\"city\"], brazil_cities[\"LAT\"], brazil_cities[\"LONG\"])   # agrupando os dados pela cidade\n",
    "        .agg(countDistinct(\"org_clean\").alias(\"n_orgs\"),                       # e computando o número de organizações distintas\n",
    "             sum(\"count\").alias(\"n_banners\"))                                  # junto com a quantidade de banners no total\n",
    ")\n",
    "step2.show()"
   ]
  },
  {
   "cell_type": "markdown",
   "id": "aae80650",
   "metadata": {
    "slideshow": {
     "slide_type": "slide"
    }
   },
   "source": [
    "### 5.3. Gerando gráfico de bolha da distribuição das organizações pelas cidades brasileiras (tamanho e cor representam a quantidade de organizações distintas na região)"
   ]
  },
  {
   "cell_type": "code",
   "execution_count": null,
   "id": "76815f08",
   "metadata": {
    "ExecuteTime": {
     "end_time": "2022-08-30T20:11:17.117339Z",
     "start_time": "2022-08-30T20:10:41.774807Z"
    },
    "slideshow": {
     "slide_type": "fragment"
    },
    "tags": []
   },
   "outputs": [],
   "source": [
    "import plotly\n",
    "plotly.offline.init_notebook_mode() # only to make plotly save the vizualiation on the notebook\n",
    "\n",
    "fig = step2.shodan_extension.plot_bubble(lat_col=\"LAT\", \n",
    "                                         lon_col=\"LONG\", \n",
    "                                         color_col=\"n_orgs\", \n",
    "                                         size=\"n_orgs\", \n",
    "                                         hover_name=\"city\", \n",
    "                                         hover_data=[\"n_orgs\",\"n_banners\"], \n",
    "                                         opacity=0.8)\n",
    "fig.update_layout(autosize=False, width=2000, height=500)"
   ]
  },
  {
   "cell_type": "markdown",
   "id": "96855804",
   "metadata": {
    "slideshow": {
     "slide_type": "slide"
    }
   },
   "source": [
    "### 8.4. Gerando gráfico de densidade Heatmap da quantidade de banners por região (cores mais claras representam regiões com alta densidade de banners)"
   ]
  },
  {
   "cell_type": "code",
   "execution_count": null,
   "id": "5411c47c",
   "metadata": {
    "ExecuteTime": {
     "end_time": "2022-08-30T20:14:17.282512Z",
     "start_time": "2022-08-30T20:13:38.031950Z"
    },
    "slideshow": {
     "slide_type": "fragment"
    },
    "tags": []
   },
   "outputs": [],
   "source": [
    "fig = step2.shodan_extension.plot_heatmap(lat_col=\"LAT\", \n",
    "                                          lon_col=\"LONG\", \n",
    "                                          z_col=\"n_banners\",  \n",
    "                                          hover_name=\"city\", \n",
    "                                          hover_data=[\"n_orgs\",\"n_banners\"], \n",
    "                                          radius=20)\n",
    "fig.update_layout(autosize=False, width=2000, height=500)"
   ]
  },
  {
   "cell_type": "code",
   "execution_count": null,
   "id": "77f96dfe",
   "metadata": {
    "ExecuteTime": {
     "end_time": "2022-08-30T20:20:36.473227Z",
     "start_time": "2022-08-30T20:20:34.125321Z"
    },
    "slideshow": {
     "slide_type": "skip"
    },
    "tags": []
   },
   "outputs": [],
   "source": [
    "spark.stop()"
   ]
  }
 ],
 "metadata": {
  "celltoolbar": "Slideshow",
  "kernelspec": {
   "display_name": "Python 3 (ipykernel)",
   "language": "python",
   "name": "python3"
  },
  "language_info": {
   "codemirror_mode": {
    "name": "ipython",
    "version": 3
   },
   "file_extension": ".py",
   "mimetype": "text/x-python",
   "name": "python",
   "nbconvert_exporter": "python",
   "pygments_lexer": "ipython3",
   "version": "3.9.2"
  }
 },
 "nbformat": 4,
 "nbformat_minor": 5
}
